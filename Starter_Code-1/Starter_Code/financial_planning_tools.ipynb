{
 "cells": [
  {
   "cell_type": "markdown",
   "metadata": {},
   "source": [
    "# Financial Planning with APIs and Simulations\n",
    "\n",
    "In this Challenge, you’ll create two financial analysis tools by using a single Jupyter notebook:\n",
    "\n",
    "Part 1: A financial planner for emergencies. The members will be able to use this tool to visualize their current savings. The members can then determine if they have enough reserves for an emergency fund.\n",
    "\n",
    "Part 2: A financial planner for retirement. This tool will forecast the performance of their retirement portfolio in 30 years. To do this, the tool will make an Alpaca API call via the Alpaca SDK to get historical price data for use in Monte Carlo simulations.\n",
    "\n",
    "You’ll use the information from the Monte Carlo simulation to answer questions about the portfolio in your Jupyter notebook.\n",
    "\n"
   ]
  },
  {
   "cell_type": "code",
   "execution_count": 1,
   "metadata": {},
   "outputs": [],
   "source": [
    "# Import the required libraries and dependencies\n",
    "import os\n",
    "import requests\n",
    "import json\n",
    "import pandas as pd\n",
    "from dotenv import load_dotenv\n",
    "import alpaca_trade_api as tradeapi\n",
    "from MCForecastTools import MCSimulation\n",
    "\n",
    "%matplotlib inline"
   ]
  },
  {
   "cell_type": "code",
   "execution_count": 2,
   "metadata": {},
   "outputs": [
    {
     "data": {
      "text/plain": [
       "True"
      ]
     },
     "execution_count": 2,
     "metadata": {},
     "output_type": "execute_result"
    }
   ],
   "source": [
    "# Load the environment variables from the .env file\n",
    "#by calling the load_dotenv function\n",
    "load_dotenv()"
   ]
  },
  {
   "cell_type": "markdown",
   "metadata": {},
   "source": [
    "## Part 1: Create a Financial Planner for Emergencies"
   ]
  },
  {
   "cell_type": "markdown",
   "metadata": {},
   "source": [
    "### Evaluate the Cryptocurrency Wallet by Using the Requests Library\n",
    "\n",
    "In this section, you’ll determine the current value of a member’s cryptocurrency wallet. You’ll collect the current prices for the Bitcoin and Ethereum cryptocurrencies by using the Python Requests library. For the prototype, you’ll assume that the member holds the 1.2 Bitcoins (BTC) and 5.3 Ethereum coins (ETH). To do all this, complete the following steps:\n",
    "\n",
    "1. Create a variable named `monthly_income`, and set its value to `12000`.\n",
    "\n",
    "2. Use the Requests library to get the current price (in US dollars) of Bitcoin (BTC) and Ethereum (ETH) by using the API endpoints that the starter code supplies.\n",
    "\n",
    "3. Navigate the JSON response object to access the current price of each coin, and store each in a variable.\n",
    "\n",
    "    > **Hint** Note the specific identifier for each cryptocurrency in the API JSON response. The Bitcoin identifier is `1`, and the Ethereum identifier is `1027`.\n",
    "\n",
    "4. Calculate the value, in US dollars, of the current amount of each cryptocurrency and of the entire cryptocurrency wallet.\n",
    "\n"
   ]
  },
  {
   "cell_type": "code",
   "execution_count": 3,
   "metadata": {},
   "outputs": [],
   "source": [
    "# The current number of coins for each cryptocurrency asset held in the portfolio.\n",
    "btc_coins = 1.2\n",
    "eth_coins = 5.3"
   ]
  },
  {
   "cell_type": "markdown",
   "metadata": {},
   "source": [
    "#### Step 1: Create a variable named `monthly_income`, and set its value to `12000`."
   ]
  },
  {
   "cell_type": "code",
   "execution_count": 4,
   "metadata": {},
   "outputs": [],
   "source": [
    "# The monthly amount for the member's household income\n",
    "monthly_income=12000\n"
   ]
  },
  {
   "cell_type": "markdown",
   "metadata": {},
   "source": [
    "#### Review the endpoint URLs for the API calls to Free Crypto API in order to get the current pricing information for both BTC and ETH."
   ]
  },
  {
   "cell_type": "code",
   "execution_count": 5,
   "metadata": {},
   "outputs": [],
   "source": [
    "# The Free Crypto API Call endpoint URLs for the held cryptocurrency assets\n",
    "btc_url = \"https://api.alternative.me/v2/ticker/Bitcoin/?convert=USD\"\n",
    "eth_url = \"https://api.alternative.me/v2/ticker/Ethereum/?convert=USD\""
   ]
  },
  {
   "cell_type": "markdown",
   "metadata": {},
   "source": [
    "#### Step 2. Use the Requests library to get the current price (in US dollars) of Bitcoin (BTC) and Ethereum (ETH) by using the API endpoints that the starter code supplied."
   ]
  },
  {
   "cell_type": "code",
   "execution_count": 6,
   "metadata": {},
   "outputs": [
    {
     "name": "stdout",
     "output_type": "stream",
     "text": [
      "{\n",
      "    \"data\": {\n",
      "        \"1\": {\n",
      "            \"circulating_supply\": 18816062,\n",
      "            \"id\": 1,\n",
      "            \"last_updated\": 1631658296,\n",
      "            \"max_supply\": 21000000,\n",
      "            \"name\": \"Bitcoin\",\n",
      "            \"quotes\": {\n",
      "                \"USD\": {\n",
      "                    \"market_cap\": 883214845660,\n",
      "                    \"percent_change_1h\": 1.06334243017448,\n",
      "                    \"percent_change_24h\": 4.36832447172204,\n",
      "                    \"percent_change_7d\": -10.6424496809032,\n",
      "                    \"percentage_change_1h\": 1.06334243017448,\n",
      "                    \"percentage_change_24h\": 4.36832447172204,\n",
      "                    \"percentage_change_7d\": -10.6424496809032,\n",
      "                    \"price\": 47127.0,\n",
      "                    \"volume_24h\": 38689771581\n",
      "                }\n",
      "            },\n",
      "            \"rank\": 1,\n",
      "            \"symbol\": \"BTC\",\n",
      "            \"total_supply\": 18816062,\n",
      "            \"website_slug\": \"bitcoin\"\n",
      "        }\n",
      "    },\n",
      "    \"metadata\": {\n",
      "        \"error\": null,\n",
      "        \"num_cryptocurrencies\": 3105,\n",
      "        \"timestamp\": 1631658296\n",
      "    }\n",
      "}\n"
     ]
    }
   ],
   "source": [
    "# Using the Python requests library, make an API call to access the current price of BTC\n",
    "btc_response =requests.get(btc_url).json()\n",
    "\n",
    "# Use the json.dumps function to review the response data from the API call\n",
    "# Use the indent and sort_keys parameters to make the response object readable\n",
    "print(json.dumps(btc_response, indent=4, sort_keys=True))\n"
   ]
  },
  {
   "cell_type": "code",
   "execution_count": 7,
   "metadata": {},
   "outputs": [
    {
     "name": "stdout",
     "output_type": "stream",
     "text": [
      "{\n",
      "    \"data\": {\n",
      "        \"1027\": {\n",
      "            \"circulating_supply\": 117525608,\n",
      "            \"id\": 1027,\n",
      "            \"last_updated\": 1631658297,\n",
      "            \"max_supply\": 0,\n",
      "            \"name\": \"Ethereum\",\n",
      "            \"quotes\": {\n",
      "                \"USD\": {\n",
      "                    \"market_cap\": 396492806152,\n",
      "                    \"percent_change_1h\": 0.772467545023988,\n",
      "                    \"percent_change_24h\": 2.69730135572777,\n",
      "                    \"percent_change_7d\": -14.144754758016,\n",
      "                    \"percentage_change_1h\": 0.772467545023988,\n",
      "                    \"percentage_change_24h\": 2.69730135572777,\n",
      "                    \"percentage_change_7d\": -14.144754758016,\n",
      "                    \"price\": 3385.49,\n",
      "                    \"volume_24h\": 20562757394\n",
      "                }\n",
      "            },\n",
      "            \"rank\": 2,\n",
      "            \"symbol\": \"ETH\",\n",
      "            \"total_supply\": 117525608,\n",
      "            \"website_slug\": \"ethereum\"\n",
      "        }\n",
      "    },\n",
      "    \"metadata\": {\n",
      "        \"error\": null,\n",
      "        \"num_cryptocurrencies\": 3105,\n",
      "        \"timestamp\": 1631658297\n",
      "    }\n",
      "}\n"
     ]
    }
   ],
   "source": [
    "# Using the Python requests library, make an API call to access the current price ETH\n",
    "eth_response = requests.get(eth_url).json()\n",
    "\n",
    "# Use the json.dumps function to review the response data from the API call\n",
    "# Use the indent and sort_keys parameters to make the response object readable\n",
    "print(json.dumps(eth_response, indent=4, sort_keys=True))\n"
   ]
  },
  {
   "cell_type": "markdown",
   "metadata": {},
   "source": [
    "#### Step 3: Navigate the JSON response object to access the current price of each coin, and store each in a variable."
   ]
  },
  {
   "cell_type": "code",
   "execution_count": 8,
   "metadata": {},
   "outputs": [
    {
     "data": {
      "text/plain": [
       "47127.0"
      ]
     },
     "execution_count": 8,
     "metadata": {},
     "output_type": "execute_result"
    }
   ],
   "source": [
    "# Navigate the BTC response object to access the current price of BTC\n",
    "btc_price = btc_response['data']['1']['quotes']['USD']['price']\n",
    "\n",
    "# Print the current price of BTC\n",
    "btc_price\n"
   ]
  },
  {
   "cell_type": "code",
   "execution_count": 9,
   "metadata": {},
   "outputs": [
    {
     "data": {
      "text/plain": [
       "3385.49"
      ]
     },
     "execution_count": 9,
     "metadata": {},
     "output_type": "execute_result"
    }
   ],
   "source": [
    "# Navigate the BTC response object to access the current price of ETH\n",
    "eth_price = eth_response['data']['1027']['quotes']['USD']['price']\n",
    "\n",
    "# Print the current price of ETH\n",
    "eth_price \n"
   ]
  },
  {
   "cell_type": "markdown",
   "metadata": {},
   "source": [
    "### Step 4: Calculate the value, in US dollars, of the current amount of each cryptocurrency and of the entire cryptocurrency wallet."
   ]
  },
  {
   "cell_type": "code",
   "execution_count": 10,
   "metadata": {},
   "outputs": [
    {
     "data": {
      "text/plain": [
       "56552.4"
      ]
     },
     "execution_count": 10,
     "metadata": {},
     "output_type": "execute_result"
    }
   ],
   "source": [
    "# Compute the current value of the BTC holding \n",
    "btc_value = btc_coins*btc_price\n",
    "\n",
    "# Print current value of your holding in BTC\n",
    "btc_value\n"
   ]
  },
  {
   "cell_type": "code",
   "execution_count": 11,
   "metadata": {},
   "outputs": [
    {
     "data": {
      "text/plain": [
       "17943.096999999998"
      ]
     },
     "execution_count": 11,
     "metadata": {},
     "output_type": "execute_result"
    }
   ],
   "source": [
    "# Compute the current value of the ETH holding \n",
    "eth_value = eth_coins*eth_price\n",
    "\n",
    "# Print current value of your holding in ETH\n",
    "eth_value\n"
   ]
  },
  {
   "cell_type": "code",
   "execution_count": 12,
   "metadata": {},
   "outputs": [
    {
     "name": "stdout",
     "output_type": "stream",
     "text": [
      "Current cryptocurrency wallet balance is 74495.497\n"
     ]
    }
   ],
   "source": [
    "# Compute the total value of the cryptocurrency wallet\n",
    "# Add the value of the BTC holding to the value of the ETH holding\n",
    "total_crypto_wallet = btc_value+eth_value\n",
    "\n",
    "# Print current cryptocurrency wallet balance\n",
    "print(f\"Current cryptocurrency wallet balance is {total_crypto_wallet}\")\n"
   ]
  },
  {
   "cell_type": "markdown",
   "metadata": {},
   "source": [
    "### Evaluate the Stock and Bond Holdings by Using the Alpaca SDK\n",
    "\n",
    "In this section, you’ll determine the current value of a member’s stock and bond holdings. You’ll make an API call to Alpaca via the Alpaca SDK to get the current closing prices of the SPDR S&P 500 ETF Trust (ticker: SPY) and of the iShares Core US Aggregate Bond ETF (ticker: AGG). For the prototype, assume that the member holds 110 shares of SPY, which represents the stock portion of their portfolio, and 200 shares of AGG, which represents the bond portion. To do all this, complete the following steps:\n",
    "\n",
    "1. In the `Starter_Code` folder, create an environment file (`.env`) to store the values of your Alpaca API key and Alpaca secret key.\n",
    "\n",
    "2. Set the variables for the Alpaca API and secret keys. Using the Alpaca SDK, create the Alpaca `tradeapi.REST` object. In this object, include the parameters for the Alpaca API key, the secret key, and the version number.\n",
    "\n",
    "3. Set the following parameters for the Alpaca API call:\n",
    "\n",
    "    - `tickers`: Use the tickers for the member’s stock and bond holdings.\n",
    "\n",
    "    - `timeframe`: Use a time frame of one day.\n",
    "\n",
    "    - `start_date` and `end_date`: Use the same date for these parameters, and format them with the date of the previous weekday (or `2020-08-07`). This is because you want the one closing price for the most-recent trading day.\n",
    "\n",
    "4. Get the current closing prices for `SPY` and `AGG` by using the Alpaca `get_barset` function. Format the response as a Pandas DataFrame by including the `df` property at the end of the `get_barset` function.\n",
    "\n",
    "5. Navigating the Alpaca response DataFrame, select the `SPY` and `AGG` closing prices, and store them as variables.\n",
    "\n",
    "6. Calculate the value, in US dollars, of the current amount of shares in each of the stock and bond portions of the portfolio, and print the results.\n"
   ]
  },
  {
   "cell_type": "markdown",
   "metadata": {},
   "source": [
    "#### Review the total number of shares held in both (SPY) and (AGG)."
   ]
  },
  {
   "cell_type": "code",
   "execution_count": 13,
   "metadata": {},
   "outputs": [],
   "source": [
    "# Current amount of shares held in both the stock (SPY) and bond (AGG) portion of the portfolio.\n",
    "spy_shares = 110\n",
    "agg_shares = 200\n"
   ]
  },
  {
   "cell_type": "markdown",
   "metadata": {},
   "source": [
    "#### Step 1: In the `Starter_Code` folder, create an environment file (`.env`) to store the values of your Alpaca API key and Alpaca secret key."
   ]
  },
  {
   "cell_type": "markdown",
   "metadata": {},
   "source": [
    "#### Step 2: Set the variables for the Alpaca API and secret keys. Using the Alpaca SDK, create the Alpaca `tradeapi.REST` object. In this object, include the parameters for the Alpaca API key, the secret key, and the version number."
   ]
  },
  {
   "cell_type": "code",
   "execution_count": 14,
   "metadata": {},
   "outputs": [],
   "source": [
    "# Set the variables for the Alpaca API and secret keys\n",
    "alpaca_api_key = os.getenv(\"Alpaca_API_KEY\")\n",
    "alpaca_secret_key = os.getenv(\"ALPACA_SECRET_KEY\")\n",
    "\n",
    "# Create the Alpaca tradeapi.REST object\n",
    "alpaca=tradeapi.REST(alpaca_api_key, alpaca_secret_key, api_version=\"v2\")\n"
   ]
  },
  {
   "cell_type": "markdown",
   "metadata": {},
   "source": [
    "#### Step 3: Set the following parameters for the Alpaca API call:\n",
    "\n",
    "- `tickers`: Use the tickers for the member’s stock and bond holdings.\n",
    "\n",
    "- `timeframe`: Use a time frame of one day.\n",
    "\n",
    "- `start_date` and `end_date`: Use the same date for these parameters, and format them with the date of the previous weekday (or `2020-08-07`). This is because you want the one closing price for the most-recent trading day.\n"
   ]
  },
  {
   "cell_type": "code",
   "execution_count": 15,
   "metadata": {},
   "outputs": [],
   "source": [
    "# Set the tickers for both the bond and stock portion of the portfolio\n",
    "tickers=[\"SPY\",\"AGG\"]\n",
    "\n",
    "# Set timeframe to 1D \n",
    "timeframe=\"1D\"\n",
    "\n",
    "# Format current date as ISO format\n",
    "# Set both the start and end date at the date of your prior weekday \n",
    "# This will give you the closing price of the previous trading day\n",
    "# Alternatively you can use a start and end date of 2020-08-07\n",
    "start_date= pd.Timestamp(\"2020-08-07\",tz=\"America/New_York\").isoformat()\n",
    "end_date= pd.Timestamp(\"2020-08-07\",tz=\"America/New_York\").isoformat()\n"
   ]
  },
  {
   "cell_type": "markdown",
   "metadata": {},
   "source": [
    "#### Step 4: Get the current closing prices for `SPY` and `AGG` by using the Alpaca `get_barset` function. Format the response as a Pandas DataFrame by including the `df` property at the end of the `get_barset` function."
   ]
  },
  {
   "cell_type": "code",
   "execution_count": 16,
   "metadata": {},
   "outputs": [
    {
     "data": {
      "text/html": [
       "<div>\n",
       "<style scoped>\n",
       "    .dataframe tbody tr th:only-of-type {\n",
       "        vertical-align: middle;\n",
       "    }\n",
       "\n",
       "    .dataframe tbody tr th {\n",
       "        vertical-align: top;\n",
       "    }\n",
       "\n",
       "    .dataframe thead tr th {\n",
       "        text-align: left;\n",
       "    }\n",
       "\n",
       "    .dataframe thead tr:last-of-type th {\n",
       "        text-align: right;\n",
       "    }\n",
       "</style>\n",
       "<table border=\"1\" class=\"dataframe\">\n",
       "  <thead>\n",
       "    <tr>\n",
       "      <th></th>\n",
       "      <th colspan=\"5\" halign=\"left\">AGG</th>\n",
       "      <th colspan=\"5\" halign=\"left\">SPY</th>\n",
       "    </tr>\n",
       "    <tr>\n",
       "      <th></th>\n",
       "      <th>open</th>\n",
       "      <th>high</th>\n",
       "      <th>low</th>\n",
       "      <th>close</th>\n",
       "      <th>volume</th>\n",
       "      <th>open</th>\n",
       "      <th>high</th>\n",
       "      <th>low</th>\n",
       "      <th>close</th>\n",
       "      <th>volume</th>\n",
       "    </tr>\n",
       "    <tr>\n",
       "      <th>time</th>\n",
       "      <th></th>\n",
       "      <th></th>\n",
       "      <th></th>\n",
       "      <th></th>\n",
       "      <th></th>\n",
       "      <th></th>\n",
       "      <th></th>\n",
       "      <th></th>\n",
       "      <th></th>\n",
       "      <th></th>\n",
       "    </tr>\n",
       "  </thead>\n",
       "  <tbody>\n",
       "    <tr>\n",
       "      <th>2020-08-07 00:00:00-04:00</th>\n",
       "      <td>119.66</td>\n",
       "      <td>119.73</td>\n",
       "      <td>119.395</td>\n",
       "      <td>119.445</td>\n",
       "      <td>8830420</td>\n",
       "      <td>333.28</td>\n",
       "      <td>334.88</td>\n",
       "      <td>332.3</td>\n",
       "      <td>334.55</td>\n",
       "      <td>98710236</td>\n",
       "    </tr>\n",
       "  </tbody>\n",
       "</table>\n",
       "</div>"
      ],
      "text/plain": [
       "                              AGG                                        SPY  \\\n",
       "                             open    high      low    close   volume    open   \n",
       "time                                                                           \n",
       "2020-08-07 00:00:00-04:00  119.66  119.73  119.395  119.445  8830420  333.28   \n",
       "\n",
       "                                                            \n",
       "                             high    low   close    volume  \n",
       "time                                                        \n",
       "2020-08-07 00:00:00-04:00  334.88  332.3  334.55  98710236  "
      ]
     },
     "execution_count": 16,
     "metadata": {},
     "output_type": "execute_result"
    }
   ],
   "source": [
    "# Use the Alpaca get_barset function to get current closing prices the portfolio\n",
    "# Be sure to set the `df` property after the function to format the response object as a DataFrame\n",
    "prices_df=alpaca.get_barset(tickers,  timeframe,start=start_date, end=end_date, limit=1000 ).df\n",
    "\n",
    "# Review the first 5 rows of the Alpaca DataFrame\n",
    "prices_df.head()\n"
   ]
  },
  {
   "cell_type": "markdown",
   "metadata": {},
   "source": [
    "#### Step 5: Navigating the Alpaca response DataFrame, select the `SPY` and `AGG` closing prices, and store them as variables."
   ]
  },
  {
   "cell_type": "code",
   "execution_count": 17,
   "metadata": {},
   "outputs": [
    {
     "name": "stdout",
     "output_type": "stream",
     "text": [
      "119.445\n"
     ]
    }
   ],
   "source": [
    "# Access the closing price for AGG from the Alpaca DataFrame\n",
    "# Converting the value to a floating point number\n",
    "agg_close_price = float(prices_df[\"AGG\"][\"close\"])\n",
    "\n",
    "# Print the AGG closing price\n",
    "print(agg_close_price)\n"
   ]
  },
  {
   "cell_type": "code",
   "execution_count": 18,
   "metadata": {},
   "outputs": [
    {
     "name": "stdout",
     "output_type": "stream",
     "text": [
      "334.55\n"
     ]
    }
   ],
   "source": [
    "# Access the closing price for SPY from the Alpaca DataFrame\n",
    "# Converting the value to a floating point number\n",
    "spy_close_price = float(prices_df[\"SPY\"][\"close\"])\n",
    "\n",
    "# Print the SPY closing price\n",
    "print(spy_close_price)\n"
   ]
  },
  {
   "cell_type": "markdown",
   "metadata": {},
   "source": [
    "#### Step 6: Calculate the value, in US dollars, of the current amount of shares in each of the stock and bond portions of the portfolio, and print the results."
   ]
  },
  {
   "cell_type": "code",
   "execution_count": 19,
   "metadata": {},
   "outputs": [
    {
     "name": "stdout",
     "output_type": "stream",
     "text": [
      "The current value of the bond portfolio is 23889.0\n"
     ]
    }
   ],
   "source": [
    "# Calculate the current value of the bond portion of the portfolio\n",
    "agg_value = agg_shares*agg_close_price\n",
    "\n",
    "# Print the current value of the bond portfolio\n",
    "print(f\"The current value of the bond portfolio is {agg_value}\")\n"
   ]
  },
  {
   "cell_type": "code",
   "execution_count": 20,
   "metadata": {},
   "outputs": [
    {
     "name": "stdout",
     "output_type": "stream",
     "text": [
      "The current value of the stock portfolio is 36800.5\n"
     ]
    }
   ],
   "source": [
    "# Calculate the current value of the stock portion of the portfolio\n",
    "spy_value = spy_shares*spy_close_price\n",
    "\n",
    "# Print the current value of the stock portfolio\n",
    "print(f\"The current value of the stock portfolio is {spy_value}\")\n"
   ]
  },
  {
   "cell_type": "code",
   "execution_count": 21,
   "metadata": {},
   "outputs": [
    {
     "name": "stdout",
     "output_type": "stream",
     "text": [
      "The current balance of the stock and bond portion of the portfolio is 60689.5\n"
     ]
    }
   ],
   "source": [
    "# Calculate the total value of the stock and bond portion of the portfolio\n",
    "total_stocks_bonds = spy_value+agg_value\n",
    "\n",
    "# Print the current balance of the stock and bond portion of the portfolio\n",
    "print(f\"The current balance of the stock and bond portion of the portfolio is {total_stocks_bonds}\")\n"
   ]
  },
  {
   "cell_type": "code",
   "execution_count": 22,
   "metadata": {},
   "outputs": [
    {
     "name": "stdout",
     "output_type": "stream",
     "text": [
      "The total wallet balance is 135184.997\n"
     ]
    }
   ],
   "source": [
    "# Calculate the total value of the member's entire savings portfolio\n",
    "# Add the value of the cryptocurrency walled to the value of the total stocks and bonds\n",
    "total_portfolio = total_crypto_wallet+ total_stocks_bonds\n",
    "\n",
    "# Print current cryptocurrency wallet balance\n",
    "print(f\"The total wallet balance is {total_portfolio}\")\n"
   ]
  },
  {
   "cell_type": "markdown",
   "metadata": {},
   "source": [
    "### Evaluate the Emergency Fund\n",
    "\n",
    "In this section, you’ll use the valuations for the cryptocurrency wallet and for the stock and bond portions of the portfolio to determine if the credit union member has enough savings to build an emergency fund into their financial plan. To do this, complete the following steps:\n",
    "\n",
    "1. Create a Python list named `savings_data` that has two elements. The first element contains the total value of the cryptocurrency wallet. The second element contains the total value of the stock and bond portions of the portfolio.\n",
    "\n",
    "2. Use the `savings_data` list to create a Pandas DataFrame named `savings_df`, and then display this DataFrame. The function to create the DataFrame should take the following three parameters:\n",
    "\n",
    "    - `savings_data`: Use the list that you just created.\n",
    "\n",
    "    - `columns`: Set this parameter equal to a Python list with a single value called `amount`.\n",
    "\n",
    "    - `index`: Set this parameter equal to a Python list with the values of `crypto` and `stock/bond`.\n",
    "\n",
    "3. Use the `savings_df` DataFrame to plot a pie chart that visualizes the composition of the member’s portfolio. The y-axis of the pie chart uses `amount`. Be sure to add a title.\n",
    "\n",
    "4. Using Python, determine if the current portfolio has enough to create an emergency fund as part of the member’s financial plan. Ideally, an emergency fund should equal to three times the member’s monthly income. To do this, implement the following steps:\n",
    "\n",
    "    1. Create a variable named `emergency_fund_value`, and set it equal to three times the value of the member’s `monthly_income` of $12000. (You set this earlier in Part 1).\n",
    "\n",
    "    2. Create a series of three if statements to determine if the member’s total portfolio is large enough to fund the emergency portfolio:\n",
    "\n",
    "        1. If the total portfolio value is greater than the emergency fund value, display a message congratulating the member for having enough money in this fund.\n",
    "\n",
    "        2. Else if the total portfolio value is equal to the emergency fund value, display a message congratulating the member on reaching this important financial goal.\n",
    "\n",
    "        3. Else the total portfolio is less than the emergency fund value, so display a message showing how many dollars away the member is from reaching the goal. (Subtract the total portfolio value from the emergency fund value.)\n"
   ]
  },
  {
   "cell_type": "markdown",
   "metadata": {},
   "source": [
    "#### Step 1: Create a Python list named `savings_data` that has two elements. The first element contains the total value of the cryptocurrency wallet. The second element contains the total value of the stock and bond portions of the portfolio."
   ]
  },
  {
   "cell_type": "code",
   "execution_count": 23,
   "metadata": {},
   "outputs": [
    {
     "data": {
      "text/plain": [
       "[74495.497, 60689.5]"
      ]
     },
     "execution_count": 23,
     "metadata": {},
     "output_type": "execute_result"
    }
   ],
   "source": [
    "# Consolidate financial assets data into a Python list\n",
    "savings_data=[total_crypto_wallet,  total_stocks_bonds]\n",
    "\n",
    "# Review the Python list savings_data\n",
    "savings_data\n",
    "    "
   ]
  },
  {
   "cell_type": "markdown",
   "metadata": {},
   "source": [
    "#### Step 2: Use the `savings_data` list to create a Pandas DataFrame named `savings_df`, and then display this DataFrame. The function to create the DataFrame should take the following three parameters:\n",
    "\n",
    "- `savings_data`: Use the list that you just created.\n",
    "\n",
    "- `columns`: Set this parameter equal to a Python list with a single value called `amount`.\n",
    "\n",
    "- `index`: Set this parameter equal to a Python list with the values of `crypto` and `stock/bond`.\n"
   ]
  },
  {
   "cell_type": "code",
   "execution_count": 24,
   "metadata": {},
   "outputs": [
    {
     "data": {
      "text/html": [
       "<div>\n",
       "<style scoped>\n",
       "    .dataframe tbody tr th:only-of-type {\n",
       "        vertical-align: middle;\n",
       "    }\n",
       "\n",
       "    .dataframe tbody tr th {\n",
       "        vertical-align: top;\n",
       "    }\n",
       "\n",
       "    .dataframe thead th {\n",
       "        text-align: right;\n",
       "    }\n",
       "</style>\n",
       "<table border=\"1\" class=\"dataframe\">\n",
       "  <thead>\n",
       "    <tr style=\"text-align: right;\">\n",
       "      <th></th>\n",
       "      <th>Amount</th>\n",
       "    </tr>\n",
       "  </thead>\n",
       "  <tbody>\n",
       "    <tr>\n",
       "      <th>crypto</th>\n",
       "      <td>74495.497</td>\n",
       "    </tr>\n",
       "    <tr>\n",
       "      <th>stock/bond</th>\n",
       "      <td>60689.500</td>\n",
       "    </tr>\n",
       "  </tbody>\n",
       "</table>\n",
       "</div>"
      ],
      "text/plain": [
       "               Amount\n",
       "crypto      74495.497\n",
       "stock/bond  60689.500"
      ]
     },
     "execution_count": 24,
     "metadata": {},
     "output_type": "execute_result"
    }
   ],
   "source": [
    "# Create a Pandas DataFrame called savings_df \n",
    "\n",
    "savings_df=pd.DataFrame(data=savings_data, columns=[\"Amount\"], index=[\"crypto\",\"stock/bond\"])\n",
    "\n",
    "# Display the savings_df DataFrame\n",
    "savings_df\n"
   ]
  },
  {
   "cell_type": "markdown",
   "metadata": {},
   "source": [
    "#### Step 3: Use the `savings_df` DataFrame to plot a pie chart that visualizes the composition of the member’s portfolio. The y-axis of the pie chart uses `amount`. Be sure to add a title."
   ]
  },
  {
   "cell_type": "code",
   "execution_count": 25,
   "metadata": {},
   "outputs": [
    {
     "data": {
      "text/plain": [
       "<AxesSubplot:title={'center':'Composition of the portfolio'}, ylabel='Amount'>"
      ]
     },
     "execution_count": 25,
     "metadata": {},
     "output_type": "execute_result"
    },
    {
     "data": {
      "image/png": "[encoded data removed]",
      "text/plain": [
       "<Figure size 432x288 with 1 Axes>"
      ]
     },
     "metadata": {},
     "output_type": "display_data"
    }
   ],
   "source": [
    "# Plot the total value of the member's portfolio (crypto and stock/bond) in a pie chart\n",
    "savings_df.plot.pie(y= \"Amount\",title=\"Composition of the portfolio\")\n"
   ]
  },
  {
   "cell_type": "markdown",
   "metadata": {},
   "source": [
    "#### Step 4: Using Python, determine if the current portfolio has enough to create an emergency fund as part of the member’s financial plan. Ideally, an emergency fund should equal to three times the member’s monthly income. To do this, implement the following steps:\n",
    "\n",
    "Step 1. Create a variable named `emergency_fund_value`, and set it equal to three times the value of the member’s `monthly_income` of 12000. (You set this earlier in Part 1).\n",
    "\n",
    "Step 2. Create a series of three if statements to determine if the member’s total portfolio is large enough to fund the emergency portfolio:\n",
    "\n",
    "* If the total portfolio value is greater than the emergency fund value, display a message congratulating the member for having enough money in this fund.\n",
    "\n",
    "* Else if the total portfolio value is equal to the emergency fund value, display a message congratulating the member on reaching this important financial goal.\n",
    "\n",
    "* Else the total portfolio is less than the emergency fund value, so display a message showing how many dollars away the member is from reaching the goal. (Subtract the total portfolio value from the emergency fund value.)\n"
   ]
  },
  {
   "cell_type": "markdown",
   "metadata": {},
   "source": [
    "##### Step 4-1: Create a variable named `emergency_fund_value`, and set it equal to three times the value of the member’s `monthly_income` of 12000. (You set this earlier in Part 1)."
   ]
  },
  {
   "cell_type": "code",
   "execution_count": 26,
   "metadata": {},
   "outputs": [
    {
     "data": {
      "text/plain": [
       "36000"
      ]
     },
     "execution_count": 26,
     "metadata": {},
     "output_type": "execute_result"
    }
   ],
   "source": [
    "# Create a variable named emergency_fund_value\n",
    "emergency_fund_value=monthly_income*3\n",
    "emergency_fund_value"
   ]
  },
  {
   "cell_type": "markdown",
   "metadata": {},
   "source": [
    "##### Step 4-2: Create a series of three if statements to determine if the member’s total portfolio is large enough to fund the emergency portfolio:\n",
    "\n",
    "* If the total portfolio value is greater than the emergency fund value, display a message congratulating the member for having enough money in this fund.\n",
    "\n",
    "* Else if the total portfolio value is equal to the emergency fund value, display a message congratulating the member on reaching this important financial goal.\n",
    "\n",
    "* Else the total portfolio is less than the emergency fund value, so display a message showing how many dollars away the member is from reaching the goal. (Subtract the total portfolio value from the emergency fund value.)"
   ]
  },
  {
   "cell_type": "code",
   "execution_count": 54,
   "metadata": {},
   "outputs": [
    {
     "name": "stdout",
     "output_type": "stream",
     "text": [
      "Congratulations for having enough money for your emergency fund\n"
     ]
    }
   ],
   "source": [
    "# Evaluate the possibility of creating an emergency fund with 3 conditions:\n",
    "if total_portfolio>emergency_fund_value:\n",
    "    print(\"Congratulations for having enough money for your emergency fund\")\n",
    "else:\n",
    "    if total_portfolio==emergency_fund_value:\n",
    "        print(\"Congratulations on reaching this important financial goal\")\n",
    "    else  :\n",
    "        print(f\"You're {(emergency_fund_value-total_portfolio)} $ away from reaching this goal.\")\n"
   ]
  },
  {
   "cell_type": "markdown",
   "metadata": {},
   "source": [
    "## Part 2: Create a Financial Planner for Retirement"
   ]
  },
  {
   "cell_type": "markdown",
   "metadata": {},
   "source": [
    "### Create the Monte Carlo Simulation\n",
    "\n",
    "In this section, you’ll use the MCForecastTools library to create a Monte Carlo simulation for the member’s savings portfolio. To do this, complete the following steps:\n",
    "\n",
    "1. Make an API call via the Alpaca SDK to get 3 years of historical closing prices for a traditional 60/40 portfolio split: 60% stocks (SPY) and 40% bonds (AGG).\n",
    "\n",
    "2. Run a Monte Carlo simulation of 500 samples and 30 years for the 60/40 portfolio, and then plot the results.The following image shows the overlay line plot resulting from a simulation with these characteristics. However, because a random number generator is used to run each live Monte Carlo simulation, your image will differ slightly from this exact image:\n",
    "\n",
    "![A screenshot depicts the resulting plot.](Images/5-4-monte-carlo-line-plot.png)\n",
    "\n",
    "3. Plot the probability distribution of the Monte Carlo simulation. Plot the probability distribution of the Monte Carlo simulation. The following image shows the histogram plot resulting from a simulation with these characteristics. However, because a random number generator is used to run each live Monte Carlo simulation, your image will differ slightly from this exact image:\n",
    "\n",
    "![A screenshot depicts the histogram plot.](Images/5-4-monte-carlo-histogram.png)\n",
    "\n",
    "4. Generate the summary statistics for the Monte Carlo simulation.\n",
    "\n"
   ]
  },
  {
   "cell_type": "markdown",
   "metadata": {},
   "source": [
    "#### Step 1: Make an API call via the Alpaca SDK to get 3 years of historical closing prices for a traditional 60/40 portfolio split: 60% stocks (SPY) and 40% bonds (AGG)."
   ]
  },
  {
   "cell_type": "code",
   "execution_count": 32,
   "metadata": {},
   "outputs": [],
   "source": [
    "# Set start and end dates of 3 years back from your current date\n",
    "# Alternatively, you can use an end date of 2020-08-07 and work 3 years back from that date \n",
    "start_date=pd.Timestamp(\"2018-08-07\",tz= \"America/New_york\").isoformat()\n",
    "end_date= pd.Timestamp(\"2021-08-07\",tz= \"America/New_york\").isoformat()\n",
    "\n",
    "# Set number of rows to 1000 to retrieve the maximum amount of rows\n",
    "limit_rows=1000"
   ]
  },
  {
   "cell_type": "code",
   "execution_count": 33,
   "metadata": {},
   "outputs": [
    {
     "data": {
      "text/html": [
       "<div>\n",
       "<style scoped>\n",
       "    .dataframe tbody tr th:only-of-type {\n",
       "        vertical-align: middle;\n",
       "    }\n",
       "\n",
       "    .dataframe tbody tr th {\n",
       "        vertical-align: top;\n",
       "    }\n",
       "\n",
       "    .dataframe thead tr th {\n",
       "        text-align: left;\n",
       "    }\n",
       "\n",
       "    .dataframe thead tr:last-of-type th {\n",
       "        text-align: right;\n",
       "    }\n",
       "</style>\n",
       "<table border=\"1\" class=\"dataframe\">\n",
       "  <thead>\n",
       "    <tr>\n",
       "      <th></th>\n",
       "      <th colspan=\"5\" halign=\"left\">AGG</th>\n",
       "      <th colspan=\"5\" halign=\"left\">SPY</th>\n",
       "    </tr>\n",
       "    <tr>\n",
       "      <th></th>\n",
       "      <th>open</th>\n",
       "      <th>high</th>\n",
       "      <th>low</th>\n",
       "      <th>close</th>\n",
       "      <th>volume</th>\n",
       "      <th>open</th>\n",
       "      <th>high</th>\n",
       "      <th>low</th>\n",
       "      <th>close</th>\n",
       "      <th>volume</th>\n",
       "    </tr>\n",
       "    <tr>\n",
       "      <th>time</th>\n",
       "      <th></th>\n",
       "      <th></th>\n",
       "      <th></th>\n",
       "      <th></th>\n",
       "      <th></th>\n",
       "      <th></th>\n",
       "      <th></th>\n",
       "      <th></th>\n",
       "      <th></th>\n",
       "      <th></th>\n",
       "    </tr>\n",
       "  </thead>\n",
       "  <tbody>\n",
       "    <tr>\n",
       "      <th>2018-08-07 00:00:00-04:00</th>\n",
       "      <td>105.97</td>\n",
       "      <td>105.97</td>\n",
       "      <td>105.8250</td>\n",
       "      <td>105.840</td>\n",
       "      <td>2368151.0</td>\n",
       "      <td>285.39</td>\n",
       "      <td>286.010</td>\n",
       "      <td>285.240</td>\n",
       "      <td>285.54</td>\n",
       "      <td>32455420</td>\n",
       "    </tr>\n",
       "    <tr>\n",
       "      <th>2018-08-08 00:00:00-04:00</th>\n",
       "      <td>105.83</td>\n",
       "      <td>105.91</td>\n",
       "      <td>105.8000</td>\n",
       "      <td>105.845</td>\n",
       "      <td>1613011.0</td>\n",
       "      <td>285.39</td>\n",
       "      <td>285.910</td>\n",
       "      <td>284.940</td>\n",
       "      <td>285.42</td>\n",
       "      <td>29142601</td>\n",
       "    </tr>\n",
       "    <tr>\n",
       "      <th>2018-08-09 00:00:00-04:00</th>\n",
       "      <td>105.97</td>\n",
       "      <td>106.04</td>\n",
       "      <td>105.9329</td>\n",
       "      <td>106.030</td>\n",
       "      <td>2168479.0</td>\n",
       "      <td>285.53</td>\n",
       "      <td>285.970</td>\n",
       "      <td>284.915</td>\n",
       "      <td>285.06</td>\n",
       "      <td>24338809</td>\n",
       "    </tr>\n",
       "    <tr>\n",
       "      <th>2018-08-10 00:00:00-04:00</th>\n",
       "      <td>106.11</td>\n",
       "      <td>106.36</td>\n",
       "      <td>106.1100</td>\n",
       "      <td>106.230</td>\n",
       "      <td>2555922.0</td>\n",
       "      <td>283.45</td>\n",
       "      <td>284.055</td>\n",
       "      <td>282.360</td>\n",
       "      <td>283.12</td>\n",
       "      <td>56622478</td>\n",
       "    </tr>\n",
       "    <tr>\n",
       "      <th>2018-08-13 00:00:00-04:00</th>\n",
       "      <td>106.16</td>\n",
       "      <td>106.30</td>\n",
       "      <td>106.1501</td>\n",
       "      <td>106.285</td>\n",
       "      <td>2558386.0</td>\n",
       "      <td>283.47</td>\n",
       "      <td>284.160</td>\n",
       "      <td>281.770</td>\n",
       "      <td>282.05</td>\n",
       "      <td>49247799</td>\n",
       "    </tr>\n",
       "  </tbody>\n",
       "</table>\n",
       "</div>"
      ],
      "text/plain": [
       "                              AGG                                        \\\n",
       "                             open    high       low    close     volume   \n",
       "time                                                                      \n",
       "2018-08-07 00:00:00-04:00  105.97  105.97  105.8250  105.840  2368151.0   \n",
       "2018-08-08 00:00:00-04:00  105.83  105.91  105.8000  105.845  1613011.0   \n",
       "2018-08-09 00:00:00-04:00  105.97  106.04  105.9329  106.030  2168479.0   \n",
       "2018-08-10 00:00:00-04:00  106.11  106.36  106.1100  106.230  2555922.0   \n",
       "2018-08-13 00:00:00-04:00  106.16  106.30  106.1501  106.285  2558386.0   \n",
       "\n",
       "                              SPY                                      \n",
       "                             open     high      low   close    volume  \n",
       "time                                                                   \n",
       "2018-08-07 00:00:00-04:00  285.39  286.010  285.240  285.54  32455420  \n",
       "2018-08-08 00:00:00-04:00  285.39  285.910  284.940  285.42  29142601  \n",
       "2018-08-09 00:00:00-04:00  285.53  285.970  284.915  285.06  24338809  \n",
       "2018-08-10 00:00:00-04:00  283.45  284.055  282.360  283.12  56622478  \n",
       "2018-08-13 00:00:00-04:00  283.47  284.160  281.770  282.05  49247799  "
      ]
     },
     "metadata": {},
     "output_type": "display_data"
    },
    {
     "data": {
      "text/html": [
       "<div>\n",
       "<style scoped>\n",
       "    .dataframe tbody tr th:only-of-type {\n",
       "        vertical-align: middle;\n",
       "    }\n",
       "\n",
       "    .dataframe tbody tr th {\n",
       "        vertical-align: top;\n",
       "    }\n",
       "\n",
       "    .dataframe thead tr th {\n",
       "        text-align: left;\n",
       "    }\n",
       "\n",
       "    .dataframe thead tr:last-of-type th {\n",
       "        text-align: right;\n",
       "    }\n",
       "</style>\n",
       "<table border=\"1\" class=\"dataframe\">\n",
       "  <thead>\n",
       "    <tr>\n",
       "      <th></th>\n",
       "      <th colspan=\"5\" halign=\"left\">AGG</th>\n",
       "      <th colspan=\"5\" halign=\"left\">SPY</th>\n",
       "    </tr>\n",
       "    <tr>\n",
       "      <th></th>\n",
       "      <th>open</th>\n",
       "      <th>high</th>\n",
       "      <th>low</th>\n",
       "      <th>close</th>\n",
       "      <th>volume</th>\n",
       "      <th>open</th>\n",
       "      <th>high</th>\n",
       "      <th>low</th>\n",
       "      <th>close</th>\n",
       "      <th>volume</th>\n",
       "    </tr>\n",
       "    <tr>\n",
       "      <th>time</th>\n",
       "      <th></th>\n",
       "      <th></th>\n",
       "      <th></th>\n",
       "      <th></th>\n",
       "      <th></th>\n",
       "      <th></th>\n",
       "      <th></th>\n",
       "      <th></th>\n",
       "      <th></th>\n",
       "      <th></th>\n",
       "    </tr>\n",
       "  </thead>\n",
       "  <tbody>\n",
       "    <tr>\n",
       "      <th>2021-08-02 00:00:00-04:00</th>\n",
       "      <td>116.36</td>\n",
       "      <td>116.68</td>\n",
       "      <td>116.3050</td>\n",
       "      <td>116.53</td>\n",
       "      <td>4669027.0</td>\n",
       "      <td>440.34</td>\n",
       "      <td>440.9300</td>\n",
       "      <td>437.21</td>\n",
       "      <td>437.58</td>\n",
       "      <td>54098311</td>\n",
       "    </tr>\n",
       "    <tr>\n",
       "      <th>2021-08-03 00:00:00-04:00</th>\n",
       "      <td>116.56</td>\n",
       "      <td>116.69</td>\n",
       "      <td>116.5306</td>\n",
       "      <td>116.58</td>\n",
       "      <td>3021828.0</td>\n",
       "      <td>438.44</td>\n",
       "      <td>441.2800</td>\n",
       "      <td>436.10</td>\n",
       "      <td>441.12</td>\n",
       "      <td>52043386</td>\n",
       "    </tr>\n",
       "    <tr>\n",
       "      <th>2021-08-04 00:00:00-04:00</th>\n",
       "      <td>116.77</td>\n",
       "      <td>116.83</td>\n",
       "      <td>116.3000</td>\n",
       "      <td>116.57</td>\n",
       "      <td>4578711.0</td>\n",
       "      <td>439.77</td>\n",
       "      <td>441.1243</td>\n",
       "      <td>438.73</td>\n",
       "      <td>439.01</td>\n",
       "      <td>40289514</td>\n",
       "    </tr>\n",
       "    <tr>\n",
       "      <th>2021-08-05 00:00:00-04:00</th>\n",
       "      <td>116.46</td>\n",
       "      <td>116.48</td>\n",
       "      <td>116.2800</td>\n",
       "      <td>116.32</td>\n",
       "      <td>3170931.0</td>\n",
       "      <td>440.22</td>\n",
       "      <td>441.8500</td>\n",
       "      <td>439.88</td>\n",
       "      <td>441.77</td>\n",
       "      <td>34903127</td>\n",
       "    </tr>\n",
       "    <tr>\n",
       "      <th>2021-08-06 00:00:00-04:00</th>\n",
       "      <td>115.93</td>\n",
       "      <td>116.02</td>\n",
       "      <td>115.7800</td>\n",
       "      <td>115.79</td>\n",
       "      <td>3125122.0</td>\n",
       "      <td>442.10</td>\n",
       "      <td>442.9400</td>\n",
       "      <td>441.80</td>\n",
       "      <td>442.52</td>\n",
       "      <td>40274051</td>\n",
       "    </tr>\n",
       "  </tbody>\n",
       "</table>\n",
       "</div>"
      ],
      "text/plain": [
       "                              AGG                                       \\\n",
       "                             open    high       low   close     volume   \n",
       "time                                                                     \n",
       "2021-08-02 00:00:00-04:00  116.36  116.68  116.3050  116.53  4669027.0   \n",
       "2021-08-03 00:00:00-04:00  116.56  116.69  116.5306  116.58  3021828.0   \n",
       "2021-08-04 00:00:00-04:00  116.77  116.83  116.3000  116.57  4578711.0   \n",
       "2021-08-05 00:00:00-04:00  116.46  116.48  116.2800  116.32  3170931.0   \n",
       "2021-08-06 00:00:00-04:00  115.93  116.02  115.7800  115.79  3125122.0   \n",
       "\n",
       "                              SPY                                      \n",
       "                             open      high     low   close    volume  \n",
       "time                                                                   \n",
       "2021-08-02 00:00:00-04:00  440.34  440.9300  437.21  437.58  54098311  \n",
       "2021-08-03 00:00:00-04:00  438.44  441.2800  436.10  441.12  52043386  \n",
       "2021-08-04 00:00:00-04:00  439.77  441.1243  438.73  439.01  40289514  \n",
       "2021-08-05 00:00:00-04:00  440.22  441.8500  439.88  441.77  34903127  \n",
       "2021-08-06 00:00:00-04:00  442.10  442.9400  441.80  442.52  40274051  "
      ]
     },
     "metadata": {},
     "output_type": "display_data"
    }
   ],
   "source": [
    "# Use the Alpaca get_barset function to make the API call to get the 3 years worth of pricing data\n",
    "# The tickers and timeframe parameters should have been set in Part 1 of this activity \n",
    "# The start and end dates should be updated with the information set above\n",
    "# Remember to add the df property to the end of the call so the response is returned as a DataFrame\n",
    "prices_3years_df=alpaca.get_barset(tickers, timeframe, start=start_date, end=end_date, limit=limit_rows).df\n",
    "\n",
    "# Display both the first and last five rows of the DataFrame\n",
    "display(prices_3years_df.head())\n",
    "display(prices_3years_df.tail())\n"
   ]
  },
  {
   "cell_type": "markdown",
   "metadata": {},
   "source": [
    "#### Step 2: Run a Monte Carlo simulation of 500 samples and 30 years for the 60/40 portfolio, and then plot the results."
   ]
  },
  {
   "cell_type": "code",
   "execution_count": 35,
   "metadata": {},
   "outputs": [
    {
     "data": {
      "text/html": [
       "<div>\n",
       "<style scoped>\n",
       "    .dataframe tbody tr th:only-of-type {\n",
       "        vertical-align: middle;\n",
       "    }\n",
       "\n",
       "    .dataframe tbody tr th {\n",
       "        vertical-align: top;\n",
       "    }\n",
       "\n",
       "    .dataframe thead tr th {\n",
       "        text-align: left;\n",
       "    }\n",
       "\n",
       "    .dataframe thead tr:last-of-type th {\n",
       "        text-align: right;\n",
       "    }\n",
       "</style>\n",
       "<table border=\"1\" class=\"dataframe\">\n",
       "  <thead>\n",
       "    <tr>\n",
       "      <th></th>\n",
       "      <th colspan=\"6\" halign=\"left\">AGG</th>\n",
       "      <th colspan=\"6\" halign=\"left\">SPY</th>\n",
       "    </tr>\n",
       "    <tr>\n",
       "      <th></th>\n",
       "      <th>open</th>\n",
       "      <th>high</th>\n",
       "      <th>low</th>\n",
       "      <th>close</th>\n",
       "      <th>volume</th>\n",
       "      <th>daily_return</th>\n",
       "      <th>open</th>\n",
       "      <th>high</th>\n",
       "      <th>low</th>\n",
       "      <th>close</th>\n",
       "      <th>volume</th>\n",
       "      <th>daily_return</th>\n",
       "    </tr>\n",
       "    <tr>\n",
       "      <th>time</th>\n",
       "      <th></th>\n",
       "      <th></th>\n",
       "      <th></th>\n",
       "      <th></th>\n",
       "      <th></th>\n",
       "      <th></th>\n",
       "      <th></th>\n",
       "      <th></th>\n",
       "      <th></th>\n",
       "      <th></th>\n",
       "      <th></th>\n",
       "      <th></th>\n",
       "    </tr>\n",
       "  </thead>\n",
       "  <tbody>\n",
       "    <tr>\n",
       "      <th>2018-08-07 00:00:00-04:00</th>\n",
       "      <td>105.97</td>\n",
       "      <td>105.97</td>\n",
       "      <td>105.8250</td>\n",
       "      <td>105.840</td>\n",
       "      <td>2368151.0</td>\n",
       "      <td>NaN</td>\n",
       "      <td>285.39</td>\n",
       "      <td>286.010</td>\n",
       "      <td>285.240</td>\n",
       "      <td>285.54</td>\n",
       "      <td>32455420</td>\n",
       "      <td>NaN</td>\n",
       "    </tr>\n",
       "    <tr>\n",
       "      <th>2018-08-08 00:00:00-04:00</th>\n",
       "      <td>105.83</td>\n",
       "      <td>105.91</td>\n",
       "      <td>105.8000</td>\n",
       "      <td>105.845</td>\n",
       "      <td>1613011.0</td>\n",
       "      <td>0.000047</td>\n",
       "      <td>285.39</td>\n",
       "      <td>285.910</td>\n",
       "      <td>284.940</td>\n",
       "      <td>285.42</td>\n",
       "      <td>29142601</td>\n",
       "      <td>-0.000420</td>\n",
       "    </tr>\n",
       "    <tr>\n",
       "      <th>2018-08-09 00:00:00-04:00</th>\n",
       "      <td>105.97</td>\n",
       "      <td>106.04</td>\n",
       "      <td>105.9329</td>\n",
       "      <td>106.030</td>\n",
       "      <td>2168479.0</td>\n",
       "      <td>0.001748</td>\n",
       "      <td>285.53</td>\n",
       "      <td>285.970</td>\n",
       "      <td>284.915</td>\n",
       "      <td>285.06</td>\n",
       "      <td>24338809</td>\n",
       "      <td>-0.001261</td>\n",
       "    </tr>\n",
       "    <tr>\n",
       "      <th>2018-08-10 00:00:00-04:00</th>\n",
       "      <td>106.11</td>\n",
       "      <td>106.36</td>\n",
       "      <td>106.1100</td>\n",
       "      <td>106.230</td>\n",
       "      <td>2555922.0</td>\n",
       "      <td>0.001886</td>\n",
       "      <td>283.45</td>\n",
       "      <td>284.055</td>\n",
       "      <td>282.360</td>\n",
       "      <td>283.12</td>\n",
       "      <td>56622478</td>\n",
       "      <td>-0.006806</td>\n",
       "    </tr>\n",
       "    <tr>\n",
       "      <th>2018-08-13 00:00:00-04:00</th>\n",
       "      <td>106.16</td>\n",
       "      <td>106.30</td>\n",
       "      <td>106.1501</td>\n",
       "      <td>106.285</td>\n",
       "      <td>2558386.0</td>\n",
       "      <td>0.000518</td>\n",
       "      <td>283.47</td>\n",
       "      <td>284.160</td>\n",
       "      <td>281.770</td>\n",
       "      <td>282.05</td>\n",
       "      <td>49247799</td>\n",
       "      <td>-0.003779</td>\n",
       "    </tr>\n",
       "  </tbody>\n",
       "</table>\n",
       "</div>"
      ],
      "text/plain": [
       "                              AGG                                        \\\n",
       "                             open    high       low    close     volume   \n",
       "time                                                                      \n",
       "2018-08-07 00:00:00-04:00  105.97  105.97  105.8250  105.840  2368151.0   \n",
       "2018-08-08 00:00:00-04:00  105.83  105.91  105.8000  105.845  1613011.0   \n",
       "2018-08-09 00:00:00-04:00  105.97  106.04  105.9329  106.030  2168479.0   \n",
       "2018-08-10 00:00:00-04:00  106.11  106.36  106.1100  106.230  2555922.0   \n",
       "2018-08-13 00:00:00-04:00  106.16  106.30  106.1501  106.285  2558386.0   \n",
       "\n",
       "                                           SPY                            \\\n",
       "                          daily_return    open     high      low   close   \n",
       "time                                                                       \n",
       "2018-08-07 00:00:00-04:00          NaN  285.39  286.010  285.240  285.54   \n",
       "2018-08-08 00:00:00-04:00     0.000047  285.39  285.910  284.940  285.42   \n",
       "2018-08-09 00:00:00-04:00     0.001748  285.53  285.970  284.915  285.06   \n",
       "2018-08-10 00:00:00-04:00     0.001886  283.45  284.055  282.360  283.12   \n",
       "2018-08-13 00:00:00-04:00     0.000518  283.47  284.160  281.770  282.05   \n",
       "\n",
       "                                                  \n",
       "                             volume daily_return  \n",
       "time                                              \n",
       "2018-08-07 00:00:00-04:00  32455420          NaN  \n",
       "2018-08-08 00:00:00-04:00  29142601    -0.000420  \n",
       "2018-08-09 00:00:00-04:00  24338809    -0.001261  \n",
       "2018-08-10 00:00:00-04:00  56622478    -0.006806  \n",
       "2018-08-13 00:00:00-04:00  49247799    -0.003779  "
      ]
     },
     "execution_count": 35,
     "metadata": {},
     "output_type": "execute_result"
    }
   ],
   "source": [
    "# Configure the Monte Carlo simulation to forecast 30 years cumulative returns\n",
    "# The weights should be split 40% to AGG and 60% to SPY.\n",
    "# Run 500 samples.\n",
    "MC_SPY_AGG_portfolio=MCSimulation(\n",
    "  portfolio_data = prices_3years_df,\n",
    "  weights = [0.6,0.4],\n",
    "  num_simulation = 500,\n",
    "  num_trading_days = 252*30\n",
    ")\n",
    "\n",
    "\n",
    "# Review the simulation input data\n",
    "MC_SPY_AGG_portfolio.portfolio_data.head()\n"
   ]
  },
  {
   "cell_type": "code",
   "execution_count": 36,
   "metadata": {},
   "outputs": [
    {
     "name": "stdout",
     "output_type": "stream",
     "text": [
      "Running Monte Carlo simulation number 0.\n",
      "Running Monte Carlo simulation number 10.\n",
      "Running Monte Carlo simulation number 20.\n",
      "Running Monte Carlo simulation number 30.\n",
      "Running Monte Carlo simulation number 40.\n",
      "Running Monte Carlo simulation number 50.\n",
      "Running Monte Carlo simulation number 60.\n",
      "Running Monte Carlo simulation number 70.\n",
      "Running Monte Carlo simulation number 80.\n",
      "Running Monte Carlo simulation number 90.\n",
      "Running Monte Carlo simulation number 100.\n",
      "Running Monte Carlo simulation number 110.\n",
      "Running Monte Carlo simulation number 120.\n",
      "Running Monte Carlo simulation number 130.\n",
      "Running Monte Carlo simulation number 140.\n",
      "Running Monte Carlo simulation number 150.\n",
      "Running Monte Carlo simulation number 160.\n",
      "Running Monte Carlo simulation number 170.\n",
      "Running Monte Carlo simulation number 180.\n",
      "Running Monte Carlo simulation number 190.\n",
      "Running Monte Carlo simulation number 200.\n",
      "Running Monte Carlo simulation number 210.\n",
      "Running Monte Carlo simulation number 220.\n",
      "Running Monte Carlo simulation number 230.\n",
      "Running Monte Carlo simulation number 240.\n",
      "Running Monte Carlo simulation number 250.\n",
      "Running Monte Carlo simulation number 260.\n",
      "Running Monte Carlo simulation number 270.\n",
      "Running Monte Carlo simulation number 280.\n",
      "Running Monte Carlo simulation number 290.\n",
      "Running Monte Carlo simulation number 300.\n",
      "Running Monte Carlo simulation number 310.\n",
      "Running Monte Carlo simulation number 320.\n",
      "Running Monte Carlo simulation number 330.\n",
      "Running Monte Carlo simulation number 340.\n",
      "Running Monte Carlo simulation number 350.\n",
      "Running Monte Carlo simulation number 360.\n",
      "Running Monte Carlo simulation number 370.\n",
      "Running Monte Carlo simulation number 380.\n",
      "Running Monte Carlo simulation number 390.\n",
      "Running Monte Carlo simulation number 400.\n",
      "Running Monte Carlo simulation number 410.\n",
      "Running Monte Carlo simulation number 420.\n",
      "Running Monte Carlo simulation number 430.\n",
      "Running Monte Carlo simulation number 440.\n",
      "Running Monte Carlo simulation number 450.\n",
      "Running Monte Carlo simulation number 460.\n",
      "Running Monte Carlo simulation number 470.\n",
      "Running Monte Carlo simulation number 480.\n",
      "Running Monte Carlo simulation number 490.\n"
     ]
    },
    {
     "data": {
      "text/html": [
       "<div>\n",
       "<style scoped>\n",
       "    .dataframe tbody tr th:only-of-type {\n",
       "        vertical-align: middle;\n",
       "    }\n",
       "\n",
       "    .dataframe tbody tr th {\n",
       "        vertical-align: top;\n",
       "    }\n",
       "\n",
       "    .dataframe thead th {\n",
       "        text-align: right;\n",
       "    }\n",
       "</style>\n",
       "<table border=\"1\" class=\"dataframe\">\n",
       "  <thead>\n",
       "    <tr style=\"text-align: right;\">\n",
       "      <th></th>\n",
       "      <th>0</th>\n",
       "      <th>1</th>\n",
       "      <th>2</th>\n",
       "      <th>3</th>\n",
       "      <th>4</th>\n",
       "      <th>5</th>\n",
       "      <th>6</th>\n",
       "      <th>7</th>\n",
       "      <th>8</th>\n",
       "      <th>9</th>\n",
       "      <th>...</th>\n",
       "      <th>490</th>\n",
       "      <th>491</th>\n",
       "      <th>492</th>\n",
       "      <th>493</th>\n",
       "      <th>494</th>\n",
       "      <th>495</th>\n",
       "      <th>496</th>\n",
       "      <th>497</th>\n",
       "      <th>498</th>\n",
       "      <th>499</th>\n",
       "    </tr>\n",
       "  </thead>\n",
       "  <tbody>\n",
       "    <tr>\n",
       "      <th>0</th>\n",
       "      <td>1.000000</td>\n",
       "      <td>1.000000</td>\n",
       "      <td>1.000000</td>\n",
       "      <td>1.000000</td>\n",
       "      <td>1.000000</td>\n",
       "      <td>1.000000</td>\n",
       "      <td>1.000000</td>\n",
       "      <td>1.000000</td>\n",
       "      <td>1.000000</td>\n",
       "      <td>1.000000</td>\n",
       "      <td>...</td>\n",
       "      <td>1.000000</td>\n",
       "      <td>1.000000</td>\n",
       "      <td>1.000000</td>\n",
       "      <td>1.000000</td>\n",
       "      <td>1.000000</td>\n",
       "      <td>1.000000</td>\n",
       "      <td>1.000000</td>\n",
       "      <td>1.000000</td>\n",
       "      <td>1.000000</td>\n",
       "      <td>1.000000</td>\n",
       "    </tr>\n",
       "    <tr>\n",
       "      <th>1</th>\n",
       "      <td>0.997844</td>\n",
       "      <td>1.001729</td>\n",
       "      <td>0.998738</td>\n",
       "      <td>1.001960</td>\n",
       "      <td>0.995840</td>\n",
       "      <td>0.998809</td>\n",
       "      <td>0.995234</td>\n",
       "      <td>1.007316</td>\n",
       "      <td>0.993746</td>\n",
       "      <td>0.993219</td>\n",
       "      <td>...</td>\n",
       "      <td>1.006068</td>\n",
       "      <td>1.008943</td>\n",
       "      <td>0.989262</td>\n",
       "      <td>0.988818</td>\n",
       "      <td>1.001244</td>\n",
       "      <td>1.002570</td>\n",
       "      <td>0.989313</td>\n",
       "      <td>1.000594</td>\n",
       "      <td>1.004426</td>\n",
       "      <td>1.000841</td>\n",
       "    </tr>\n",
       "    <tr>\n",
       "      <th>2</th>\n",
       "      <td>0.987446</td>\n",
       "      <td>1.000486</td>\n",
       "      <td>1.003958</td>\n",
       "      <td>0.989845</td>\n",
       "      <td>0.996518</td>\n",
       "      <td>1.002679</td>\n",
       "      <td>0.991837</td>\n",
       "      <td>1.002856</td>\n",
       "      <td>0.987801</td>\n",
       "      <td>0.990956</td>\n",
       "      <td>...</td>\n",
       "      <td>0.997029</td>\n",
       "      <td>1.005769</td>\n",
       "      <td>0.985304</td>\n",
       "      <td>1.003331</td>\n",
       "      <td>0.998003</td>\n",
       "      <td>1.000028</td>\n",
       "      <td>0.990679</td>\n",
       "      <td>0.992552</td>\n",
       "      <td>1.003556</td>\n",
       "      <td>0.987600</td>\n",
       "    </tr>\n",
       "    <tr>\n",
       "      <th>3</th>\n",
       "      <td>0.985583</td>\n",
       "      <td>1.003655</td>\n",
       "      <td>0.991527</td>\n",
       "      <td>0.994410</td>\n",
       "      <td>1.001783</td>\n",
       "      <td>1.000889</td>\n",
       "      <td>0.989399</td>\n",
       "      <td>1.006030</td>\n",
       "      <td>0.989431</td>\n",
       "      <td>0.997212</td>\n",
       "      <td>...</td>\n",
       "      <td>1.000436</td>\n",
       "      <td>0.999661</td>\n",
       "      <td>0.982667</td>\n",
       "      <td>1.007288</td>\n",
       "      <td>1.003232</td>\n",
       "      <td>0.993341</td>\n",
       "      <td>0.988064</td>\n",
       "      <td>1.000621</td>\n",
       "      <td>1.000368</td>\n",
       "      <td>0.988116</td>\n",
       "    </tr>\n",
       "    <tr>\n",
       "      <th>4</th>\n",
       "      <td>0.981052</td>\n",
       "      <td>1.000704</td>\n",
       "      <td>0.988444</td>\n",
       "      <td>0.997860</td>\n",
       "      <td>1.002985</td>\n",
       "      <td>1.003921</td>\n",
       "      <td>0.999983</td>\n",
       "      <td>1.018258</td>\n",
       "      <td>0.980121</td>\n",
       "      <td>0.990784</td>\n",
       "      <td>...</td>\n",
       "      <td>1.003367</td>\n",
       "      <td>1.004500</td>\n",
       "      <td>0.977683</td>\n",
       "      <td>1.014626</td>\n",
       "      <td>1.003878</td>\n",
       "      <td>1.004029</td>\n",
       "      <td>0.982832</td>\n",
       "      <td>1.002255</td>\n",
       "      <td>0.996941</td>\n",
       "      <td>0.987847</td>\n",
       "    </tr>\n",
       "    <tr>\n",
       "      <th>...</th>\n",
       "      <td>...</td>\n",
       "      <td>...</td>\n",
       "      <td>...</td>\n",
       "      <td>...</td>\n",
       "      <td>...</td>\n",
       "      <td>...</td>\n",
       "      <td>...</td>\n",
       "      <td>...</td>\n",
       "      <td>...</td>\n",
       "      <td>...</td>\n",
       "      <td>...</td>\n",
       "      <td>...</td>\n",
       "      <td>...</td>\n",
       "      <td>...</td>\n",
       "      <td>...</td>\n",
       "      <td>...</td>\n",
       "      <td>...</td>\n",
       "      <td>...</td>\n",
       "      <td>...</td>\n",
       "      <td>...</td>\n",
       "      <td>...</td>\n",
       "    </tr>\n",
       "    <tr>\n",
       "      <th>7556</th>\n",
       "      <td>11.247254</td>\n",
       "      <td>9.172504</td>\n",
       "      <td>32.270333</td>\n",
       "      <td>8.581328</td>\n",
       "      <td>8.015787</td>\n",
       "      <td>12.680662</td>\n",
       "      <td>13.907913</td>\n",
       "      <td>17.984291</td>\n",
       "      <td>15.625360</td>\n",
       "      <td>17.203279</td>\n",
       "      <td>...</td>\n",
       "      <td>27.602396</td>\n",
       "      <td>8.953090</td>\n",
       "      <td>12.848669</td>\n",
       "      <td>12.140553</td>\n",
       "      <td>6.033419</td>\n",
       "      <td>27.007657</td>\n",
       "      <td>6.114980</td>\n",
       "      <td>10.159955</td>\n",
       "      <td>15.114479</td>\n",
       "      <td>13.242707</td>\n",
       "    </tr>\n",
       "    <tr>\n",
       "      <th>7557</th>\n",
       "      <td>11.290531</td>\n",
       "      <td>9.202310</td>\n",
       "      <td>32.499277</td>\n",
       "      <td>8.528442</td>\n",
       "      <td>8.040353</td>\n",
       "      <td>12.759117</td>\n",
       "      <td>13.873201</td>\n",
       "      <td>17.848665</td>\n",
       "      <td>15.369135</td>\n",
       "      <td>17.123838</td>\n",
       "      <td>...</td>\n",
       "      <td>27.737721</td>\n",
       "      <td>8.969794</td>\n",
       "      <td>12.880488</td>\n",
       "      <td>12.266734</td>\n",
       "      <td>6.005653</td>\n",
       "      <td>26.768631</td>\n",
       "      <td>6.053857</td>\n",
       "      <td>10.207112</td>\n",
       "      <td>14.886510</td>\n",
       "      <td>13.243550</td>\n",
       "    </tr>\n",
       "    <tr>\n",
       "      <th>7558</th>\n",
       "      <td>11.340348</td>\n",
       "      <td>9.260494</td>\n",
       "      <td>32.681042</td>\n",
       "      <td>8.551253</td>\n",
       "      <td>8.047483</td>\n",
       "      <td>12.728501</td>\n",
       "      <td>13.835459</td>\n",
       "      <td>17.779546</td>\n",
       "      <td>15.322855</td>\n",
       "      <td>17.299048</td>\n",
       "      <td>...</td>\n",
       "      <td>27.711982</td>\n",
       "      <td>8.995721</td>\n",
       "      <td>12.986035</td>\n",
       "      <td>12.199247</td>\n",
       "      <td>6.038674</td>\n",
       "      <td>26.720250</td>\n",
       "      <td>5.967560</td>\n",
       "      <td>10.206777</td>\n",
       "      <td>14.895555</td>\n",
       "      <td>13.393000</td>\n",
       "    </tr>\n",
       "    <tr>\n",
       "      <th>7559</th>\n",
       "      <td>11.341637</td>\n",
       "      <td>9.284801</td>\n",
       "      <td>32.743504</td>\n",
       "      <td>8.614204</td>\n",
       "      <td>8.034711</td>\n",
       "      <td>12.801489</td>\n",
       "      <td>13.751906</td>\n",
       "      <td>17.810650</td>\n",
       "      <td>15.248968</td>\n",
       "      <td>17.271507</td>\n",
       "      <td>...</td>\n",
       "      <td>27.995192</td>\n",
       "      <td>9.027181</td>\n",
       "      <td>12.978256</td>\n",
       "      <td>12.137495</td>\n",
       "      <td>6.064926</td>\n",
       "      <td>26.919891</td>\n",
       "      <td>6.001113</td>\n",
       "      <td>10.253207</td>\n",
       "      <td>14.901593</td>\n",
       "      <td>13.344053</td>\n",
       "    </tr>\n",
       "    <tr>\n",
       "      <th>7560</th>\n",
       "      <td>11.364268</td>\n",
       "      <td>9.262573</td>\n",
       "      <td>32.818492</td>\n",
       "      <td>8.629475</td>\n",
       "      <td>8.006714</td>\n",
       "      <td>12.815525</td>\n",
       "      <td>13.767713</td>\n",
       "      <td>17.591026</td>\n",
       "      <td>15.257873</td>\n",
       "      <td>17.257256</td>\n",
       "      <td>...</td>\n",
       "      <td>27.921894</td>\n",
       "      <td>9.140906</td>\n",
       "      <td>13.090674</td>\n",
       "      <td>12.048640</td>\n",
       "      <td>6.041578</td>\n",
       "      <td>26.897903</td>\n",
       "      <td>5.960685</td>\n",
       "      <td>10.293596</td>\n",
       "      <td>14.854809</td>\n",
       "      <td>13.251774</td>\n",
       "    </tr>\n",
       "  </tbody>\n",
       "</table>\n",
       "<p>7561 rows × 500 columns</p>\n",
       "</div>"
      ],
      "text/plain": [
       "            0         1          2         3         4          5    \\\n",
       "0      1.000000  1.000000   1.000000  1.000000  1.000000   1.000000   \n",
       "1      0.997844  1.001729   0.998738  1.001960  0.995840   0.998809   \n",
       "2      0.987446  1.000486   1.003958  0.989845  0.996518   1.002679   \n",
       "3      0.985583  1.003655   0.991527  0.994410  1.001783   1.000889   \n",
       "4      0.981052  1.000704   0.988444  0.997860  1.002985   1.003921   \n",
       "...         ...       ...        ...       ...       ...        ...   \n",
       "7556  11.247254  9.172504  32.270333  8.581328  8.015787  12.680662   \n",
       "7557  11.290531  9.202310  32.499277  8.528442  8.040353  12.759117   \n",
       "7558  11.340348  9.260494  32.681042  8.551253  8.047483  12.728501   \n",
       "7559  11.341637  9.284801  32.743504  8.614204  8.034711  12.801489   \n",
       "7560  11.364268  9.262573  32.818492  8.629475  8.006714  12.815525   \n",
       "\n",
       "            6          7          8          9    ...        490       491  \\\n",
       "0      1.000000   1.000000   1.000000   1.000000  ...   1.000000  1.000000   \n",
       "1      0.995234   1.007316   0.993746   0.993219  ...   1.006068  1.008943   \n",
       "2      0.991837   1.002856   0.987801   0.990956  ...   0.997029  1.005769   \n",
       "3      0.989399   1.006030   0.989431   0.997212  ...   1.000436  0.999661   \n",
       "4      0.999983   1.018258   0.980121   0.990784  ...   1.003367  1.004500   \n",
       "...         ...        ...        ...        ...  ...        ...       ...   \n",
       "7556  13.907913  17.984291  15.625360  17.203279  ...  27.602396  8.953090   \n",
       "7557  13.873201  17.848665  15.369135  17.123838  ...  27.737721  8.969794   \n",
       "7558  13.835459  17.779546  15.322855  17.299048  ...  27.711982  8.995721   \n",
       "7559  13.751906  17.810650  15.248968  17.271507  ...  27.995192  9.027181   \n",
       "7560  13.767713  17.591026  15.257873  17.257256  ...  27.921894  9.140906   \n",
       "\n",
       "            492        493       494        495       496        497  \\\n",
       "0      1.000000   1.000000  1.000000   1.000000  1.000000   1.000000   \n",
       "1      0.989262   0.988818  1.001244   1.002570  0.989313   1.000594   \n",
       "2      0.985304   1.003331  0.998003   1.000028  0.990679   0.992552   \n",
       "3      0.982667   1.007288  1.003232   0.993341  0.988064   1.000621   \n",
       "4      0.977683   1.014626  1.003878   1.004029  0.982832   1.002255   \n",
       "...         ...        ...       ...        ...       ...        ...   \n",
       "7556  12.848669  12.140553  6.033419  27.007657  6.114980  10.159955   \n",
       "7557  12.880488  12.266734  6.005653  26.768631  6.053857  10.207112   \n",
       "7558  12.986035  12.199247  6.038674  26.720250  5.967560  10.206777   \n",
       "7559  12.978256  12.137495  6.064926  26.919891  6.001113  10.253207   \n",
       "7560  13.090674  12.048640  6.041578  26.897903  5.960685  10.293596   \n",
       "\n",
       "            498        499  \n",
       "0      1.000000   1.000000  \n",
       "1      1.004426   1.000841  \n",
       "2      1.003556   0.987600  \n",
       "3      1.000368   0.988116  \n",
       "4      0.996941   0.987847  \n",
       "...         ...        ...  \n",
       "7556  15.114479  13.242707  \n",
       "7557  14.886510  13.243550  \n",
       "7558  14.895555  13.393000  \n",
       "7559  14.901593  13.344053  \n",
       "7560  14.854809  13.251774  \n",
       "\n",
       "[7561 rows x 500 columns]"
      ]
     },
     "execution_count": 36,
     "metadata": {},
     "output_type": "execute_result"
    }
   ],
   "source": [
    "# Run the Monte Carlo simulation to forecast 30 years cumulative returns\n",
    "MC_SPY_AGG_portfolio.calc_cumulative_return()\n"
   ]
  },
  {
   "cell_type": "code",
   "execution_count": 37,
   "metadata": {},
   "outputs": [
    {
     "data": {
      "image/png": "[encoded data removed]",
      "text/plain": [
       "<Figure size 432x288 with 1 Axes>"
      ]
     },
     "metadata": {
      "needs_background": "light"
     },
     "output_type": "display_data"
    }
   ],
   "source": [
    "# Visualize the 30-year Monte Carlo simulation by creating an\n",
    "# overlay line plot\n",
    "MC_SPY_AGG_line= MC_SPY_AGG_portfolio.plot_simulation()\n"
   ]
  },
  {
   "cell_type": "markdown",
   "metadata": {},
   "source": [
    "#### Step 3: Plot the probability distribution of the Monte Carlo simulation."
   ]
  },
  {
   "cell_type": "code",
   "execution_count": 38,
   "metadata": {},
   "outputs": [
    {
     "data": {
      "image/png": "[encoded data removed]",
      "text/plain": [
       "<Figure size 432x288 with 1 Axes>"
      ]
     },
     "metadata": {
      "needs_background": "light"
     },
     "output_type": "display_data"
    }
   ],
   "source": [
    "# Visualize the probability distribution of the 30-year Monte Carlo simulation \n",
    "# by plotting a histogram\n",
    "MC_SPY_AGG_bar= MC_SPY_AGG_portfolio.plot_distribution()\n"
   ]
  },
  {
   "cell_type": "markdown",
   "metadata": {},
   "source": [
    "#### Step 4: Generate the summary statistics for the Monte Carlo simulation."
   ]
  },
  {
   "cell_type": "code",
   "execution_count": 40,
   "metadata": {},
   "outputs": [
    {
     "name": "stdout",
     "output_type": "stream",
     "text": [
      "count           500.000000\n",
      "mean             14.084495\n",
      "std               8.302531\n",
      "min               2.188060\n",
      "25%               8.274869\n",
      "50%              12.143213\n",
      "75%              17.302231\n",
      "max              67.937675\n",
      "95% CI Lower      3.997689\n",
      "95% CI Upper     33.794401\n",
      "Name: 7560, dtype: float64\n"
     ]
    }
   ],
   "source": [
    "# Generate summary statistics from the 30-year Monte Carlo simulation results\n",
    "# Save the results as a variable\n",
    "SPY_AGG_table=MC_SPY_AGG_portfolio.summarize_cumulative_return()\n",
    "\n",
    "\n",
    "# Review the 30-year Monte Carlo summary statistics\n",
    "print(SPY_AGG_table)"
   ]
  },
  {
   "cell_type": "markdown",
   "metadata": {},
   "source": [
    "### Analyze the Retirement Portfolio Forecasts\n",
    "\n",
    "Using the current value of only the stock and bond portion of the member's portfolio and the summary statistics that you generated from the Monte Carlo simulation, answer the following question in your Jupyter notebook:\n",
    "\n",
    "-  What are the lower and upper bounds for the expected value of the portfolio with a 95% confidence interval?\n"
   ]
  },
  {
   "cell_type": "code",
   "execution_count": 47,
   "metadata": {},
   "outputs": [
    {
     "data": {
      "text/plain": [
       "Amount    60689.5\n",
       "Name: stock/bond, dtype: float64"
      ]
     },
     "execution_count": 47,
     "metadata": {},
     "output_type": "execute_result"
    }
   ],
   "source": [
    "# Print the current balance of the stock and bond portion of the members portfolio\n",
    "savings_df.loc[\"stock/bond\"]\n"
   ]
  },
  {
   "cell_type": "code",
   "execution_count": 54,
   "metadata": {},
   "outputs": [
    {
     "name": "stdout",
     "output_type": "stream",
     "text": [
      "There is 95% chance that your return from investing your current savings in this portfolio after 30 years be between $242617.75 and $2050965.32\n"
     ]
    }
   ],
   "source": [
    "# Use the lower and upper `95%` confidence intervals to calculate the range of the possible outcomes for the current stock/bond portfolio\n",
    "ci_lower_thirty_cumulative_return = float(SPY_AGG_table[8]*savings_df.loc[\"stock/bond\"])\n",
    "ci_upper_thirty_cumulative_return = float(SPY_AGG_table[9]*savings_df.loc[\"stock/bond\"])\n",
    "\n",
    "# Print the result of your calculations\n",
    "print(f\"There is 95% chance that your return from investing your current savings in this portfolio after 30 years be between ${(ci_lower_thirty_cumulative_return):.2f} and ${(ci_upper_thirty_cumulative_return):.2f}\")\n"
   ]
  },
  {
   "cell_type": "markdown",
   "metadata": {},
   "source": [
    "### Forecast Cumulative Returns in 10 Years\n",
    "\n",
    "The CTO of the credit union is impressed with your work on these planning tools but wonders if 30 years is a long time to wait until retirement. So, your next task is to adjust the retirement portfolio and run a new Monte Carlo simulation to find out if the changes will allow members to retire earlier.\n",
    "\n",
    "For this new Monte Carlo simulation, do the following: \n",
    "\n",
    "- Forecast the cumulative returns for 10 years from now. Because of the shortened investment horizon (30 years to 10 years), the portfolio needs to invest more heavily in the riskier asset&mdash;that is, stock&mdash;to help accumulate wealth for retirement. \n",
    "\n",
    "- Adjust the weights of the retirement portfolio so that the composition for the Monte Carlo simulation consists of 20% bonds and 80% stocks. \n",
    "\n",
    "- Run the simulation over 500 samples, and use the same data that the API call to Alpaca generated.\n",
    "\n",
    "- Based on the new Monte Carlo simulation, answer the following questions in your Jupyter notebook:\n",
    "\n",
    "    - Using the current value of only the stock and bond portion of the member's portfolio and the summary statistics that you generated from the new Monte Carlo simulation, what are the lower and upper bounds for the expected value of the portfolio (with the new weights) with a 95% confidence interval?\n",
    "\n",
    "    - Will weighting the portfolio more heavily toward stocks allow the credit union members to retire after only 10 years?\n"
   ]
  },
  {
   "cell_type": "code",
   "execution_count": 55,
   "metadata": {},
   "outputs": [
    {
     "data": {
      "text/html": [
       "<div>\n",
       "<style scoped>\n",
       "    .dataframe tbody tr th:only-of-type {\n",
       "        vertical-align: middle;\n",
       "    }\n",
       "\n",
       "    .dataframe tbody tr th {\n",
       "        vertical-align: top;\n",
       "    }\n",
       "\n",
       "    .dataframe thead tr th {\n",
       "        text-align: left;\n",
       "    }\n",
       "\n",
       "    .dataframe thead tr:last-of-type th {\n",
       "        text-align: right;\n",
       "    }\n",
       "</style>\n",
       "<table border=\"1\" class=\"dataframe\">\n",
       "  <thead>\n",
       "    <tr>\n",
       "      <th></th>\n",
       "      <th colspan=\"6\" halign=\"left\">AGG</th>\n",
       "      <th colspan=\"6\" halign=\"left\">SPY</th>\n",
       "    </tr>\n",
       "    <tr>\n",
       "      <th></th>\n",
       "      <th>open</th>\n",
       "      <th>high</th>\n",
       "      <th>low</th>\n",
       "      <th>close</th>\n",
       "      <th>volume</th>\n",
       "      <th>daily_return</th>\n",
       "      <th>open</th>\n",
       "      <th>high</th>\n",
       "      <th>low</th>\n",
       "      <th>close</th>\n",
       "      <th>volume</th>\n",
       "      <th>daily_return</th>\n",
       "    </tr>\n",
       "    <tr>\n",
       "      <th>time</th>\n",
       "      <th></th>\n",
       "      <th></th>\n",
       "      <th></th>\n",
       "      <th></th>\n",
       "      <th></th>\n",
       "      <th></th>\n",
       "      <th></th>\n",
       "      <th></th>\n",
       "      <th></th>\n",
       "      <th></th>\n",
       "      <th></th>\n",
       "      <th></th>\n",
       "    </tr>\n",
       "  </thead>\n",
       "  <tbody>\n",
       "    <tr>\n",
       "      <th>2018-08-07 00:00:00-04:00</th>\n",
       "      <td>105.97</td>\n",
       "      <td>105.97</td>\n",
       "      <td>105.8250</td>\n",
       "      <td>105.840</td>\n",
       "      <td>2368151.0</td>\n",
       "      <td>NaN</td>\n",
       "      <td>285.39</td>\n",
       "      <td>286.010</td>\n",
       "      <td>285.240</td>\n",
       "      <td>285.54</td>\n",
       "      <td>32455420</td>\n",
       "      <td>NaN</td>\n",
       "    </tr>\n",
       "    <tr>\n",
       "      <th>2018-08-08 00:00:00-04:00</th>\n",
       "      <td>105.83</td>\n",
       "      <td>105.91</td>\n",
       "      <td>105.8000</td>\n",
       "      <td>105.845</td>\n",
       "      <td>1613011.0</td>\n",
       "      <td>0.000047</td>\n",
       "      <td>285.39</td>\n",
       "      <td>285.910</td>\n",
       "      <td>284.940</td>\n",
       "      <td>285.42</td>\n",
       "      <td>29142601</td>\n",
       "      <td>-0.000420</td>\n",
       "    </tr>\n",
       "    <tr>\n",
       "      <th>2018-08-09 00:00:00-04:00</th>\n",
       "      <td>105.97</td>\n",
       "      <td>106.04</td>\n",
       "      <td>105.9329</td>\n",
       "      <td>106.030</td>\n",
       "      <td>2168479.0</td>\n",
       "      <td>0.001748</td>\n",
       "      <td>285.53</td>\n",
       "      <td>285.970</td>\n",
       "      <td>284.915</td>\n",
       "      <td>285.06</td>\n",
       "      <td>24338809</td>\n",
       "      <td>-0.001261</td>\n",
       "    </tr>\n",
       "    <tr>\n",
       "      <th>2018-08-10 00:00:00-04:00</th>\n",
       "      <td>106.11</td>\n",
       "      <td>106.36</td>\n",
       "      <td>106.1100</td>\n",
       "      <td>106.230</td>\n",
       "      <td>2555922.0</td>\n",
       "      <td>0.001886</td>\n",
       "      <td>283.45</td>\n",
       "      <td>284.055</td>\n",
       "      <td>282.360</td>\n",
       "      <td>283.12</td>\n",
       "      <td>56622478</td>\n",
       "      <td>-0.006806</td>\n",
       "    </tr>\n",
       "    <tr>\n",
       "      <th>2018-08-13 00:00:00-04:00</th>\n",
       "      <td>106.16</td>\n",
       "      <td>106.30</td>\n",
       "      <td>106.1501</td>\n",
       "      <td>106.285</td>\n",
       "      <td>2558386.0</td>\n",
       "      <td>0.000518</td>\n",
       "      <td>283.47</td>\n",
       "      <td>284.160</td>\n",
       "      <td>281.770</td>\n",
       "      <td>282.05</td>\n",
       "      <td>49247799</td>\n",
       "      <td>-0.003779</td>\n",
       "    </tr>\n",
       "  </tbody>\n",
       "</table>\n",
       "</div>"
      ],
      "text/plain": [
       "                              AGG                                        \\\n",
       "                             open    high       low    close     volume   \n",
       "time                                                                      \n",
       "2018-08-07 00:00:00-04:00  105.97  105.97  105.8250  105.840  2368151.0   \n",
       "2018-08-08 00:00:00-04:00  105.83  105.91  105.8000  105.845  1613011.0   \n",
       "2018-08-09 00:00:00-04:00  105.97  106.04  105.9329  106.030  2168479.0   \n",
       "2018-08-10 00:00:00-04:00  106.11  106.36  106.1100  106.230  2555922.0   \n",
       "2018-08-13 00:00:00-04:00  106.16  106.30  106.1501  106.285  2558386.0   \n",
       "\n",
       "                                           SPY                            \\\n",
       "                          daily_return    open     high      low   close   \n",
       "time                                                                       \n",
       "2018-08-07 00:00:00-04:00          NaN  285.39  286.010  285.240  285.54   \n",
       "2018-08-08 00:00:00-04:00     0.000047  285.39  285.910  284.940  285.42   \n",
       "2018-08-09 00:00:00-04:00     0.001748  285.53  285.970  284.915  285.06   \n",
       "2018-08-10 00:00:00-04:00     0.001886  283.45  284.055  282.360  283.12   \n",
       "2018-08-13 00:00:00-04:00     0.000518  283.47  284.160  281.770  282.05   \n",
       "\n",
       "                                                  \n",
       "                             volume daily_return  \n",
       "time                                              \n",
       "2018-08-07 00:00:00-04:00  32455420          NaN  \n",
       "2018-08-08 00:00:00-04:00  29142601    -0.000420  \n",
       "2018-08-09 00:00:00-04:00  24338809    -0.001261  \n",
       "2018-08-10 00:00:00-04:00  56622478    -0.006806  \n",
       "2018-08-13 00:00:00-04:00  49247799    -0.003779  "
      ]
     },
     "execution_count": 55,
     "metadata": {},
     "output_type": "execute_result"
    }
   ],
   "source": [
    "MC_SPY_AGG_portfolio_8to2=MCSimulation(\n",
    "  portfolio_data = prices_3years_df,\n",
    "  weights = [0.8,0.2],\n",
    "  num_simulation = 500,\n",
    "  num_trading_days = 252*10\n",
    ")\n",
    "\n",
    "\n",
    "# Review the simulation input data\n",
    "MC_SPY_AGG_portfolio_8to2.portfolio_data.head()\n",
    "\n"
   ]
  },
  {
   "cell_type": "code",
   "execution_count": 56,
   "metadata": {},
   "outputs": [
    {
     "name": "stdout",
     "output_type": "stream",
     "text": [
      "Running Monte Carlo simulation number 0.\n",
      "Running Monte Carlo simulation number 10.\n",
      "Running Monte Carlo simulation number 20.\n",
      "Running Monte Carlo simulation number 30.\n",
      "Running Monte Carlo simulation number 40.\n",
      "Running Monte Carlo simulation number 50.\n",
      "Running Monte Carlo simulation number 60.\n",
      "Running Monte Carlo simulation number 70.\n",
      "Running Monte Carlo simulation number 80.\n",
      "Running Monte Carlo simulation number 90.\n",
      "Running Monte Carlo simulation number 100.\n",
      "Running Monte Carlo simulation number 110.\n",
      "Running Monte Carlo simulation number 120.\n",
      "Running Monte Carlo simulation number 130.\n",
      "Running Monte Carlo simulation number 140.\n",
      "Running Monte Carlo simulation number 150.\n",
      "Running Monte Carlo simulation number 160.\n",
      "Running Monte Carlo simulation number 170.\n",
      "Running Monte Carlo simulation number 180.\n",
      "Running Monte Carlo simulation number 190.\n",
      "Running Monte Carlo simulation number 200.\n",
      "Running Monte Carlo simulation number 210.\n",
      "Running Monte Carlo simulation number 220.\n",
      "Running Monte Carlo simulation number 230.\n",
      "Running Monte Carlo simulation number 240.\n",
      "Running Monte Carlo simulation number 250.\n",
      "Running Monte Carlo simulation number 260.\n",
      "Running Monte Carlo simulation number 270.\n",
      "Running Monte Carlo simulation number 280.\n",
      "Running Monte Carlo simulation number 290.\n",
      "Running Monte Carlo simulation number 300.\n",
      "Running Monte Carlo simulation number 310.\n",
      "Running Monte Carlo simulation number 320.\n",
      "Running Monte Carlo simulation number 330.\n",
      "Running Monte Carlo simulation number 340.\n",
      "Running Monte Carlo simulation number 350.\n",
      "Running Monte Carlo simulation number 360.\n",
      "Running Monte Carlo simulation number 370.\n",
      "Running Monte Carlo simulation number 380.\n",
      "Running Monte Carlo simulation number 390.\n",
      "Running Monte Carlo simulation number 400.\n",
      "Running Monte Carlo simulation number 410.\n",
      "Running Monte Carlo simulation number 420.\n",
      "Running Monte Carlo simulation number 430.\n",
      "Running Monte Carlo simulation number 440.\n",
      "Running Monte Carlo simulation number 450.\n",
      "Running Monte Carlo simulation number 460.\n",
      "Running Monte Carlo simulation number 470.\n",
      "Running Monte Carlo simulation number 480.\n",
      "Running Monte Carlo simulation number 490.\n"
     ]
    },
    {
     "data": {
      "text/html": [
       "<div>\n",
       "<style scoped>\n",
       "    .dataframe tbody tr th:only-of-type {\n",
       "        vertical-align: middle;\n",
       "    }\n",
       "\n",
       "    .dataframe tbody tr th {\n",
       "        vertical-align: top;\n",
       "    }\n",
       "\n",
       "    .dataframe thead th {\n",
       "        text-align: right;\n",
       "    }\n",
       "</style>\n",
       "<table border=\"1\" class=\"dataframe\">\n",
       "  <thead>\n",
       "    <tr style=\"text-align: right;\">\n",
       "      <th></th>\n",
       "      <th>0</th>\n",
       "      <th>1</th>\n",
       "      <th>2</th>\n",
       "      <th>3</th>\n",
       "      <th>4</th>\n",
       "      <th>5</th>\n",
       "      <th>6</th>\n",
       "      <th>7</th>\n",
       "      <th>8</th>\n",
       "      <th>9</th>\n",
       "      <th>...</th>\n",
       "      <th>490</th>\n",
       "      <th>491</th>\n",
       "      <th>492</th>\n",
       "      <th>493</th>\n",
       "      <th>494</th>\n",
       "      <th>495</th>\n",
       "      <th>496</th>\n",
       "      <th>497</th>\n",
       "      <th>498</th>\n",
       "      <th>499</th>\n",
       "    </tr>\n",
       "  </thead>\n",
       "  <tbody>\n",
       "    <tr>\n",
       "      <th>0</th>\n",
       "      <td>1.000000</td>\n",
       "      <td>1.000000</td>\n",
       "      <td>1.000000</td>\n",
       "      <td>1.000000</td>\n",
       "      <td>1.000000</td>\n",
       "      <td>1.000000</td>\n",
       "      <td>1.000000</td>\n",
       "      <td>1.000000</td>\n",
       "      <td>1.000000</td>\n",
       "      <td>1.000000</td>\n",
       "      <td>...</td>\n",
       "      <td>1.000000</td>\n",
       "      <td>1.000000</td>\n",
       "      <td>1.000000</td>\n",
       "      <td>1.000000</td>\n",
       "      <td>1.000000</td>\n",
       "      <td>1.000000</td>\n",
       "      <td>1.000000</td>\n",
       "      <td>1.000000</td>\n",
       "      <td>1.000000</td>\n",
       "      <td>1.000000</td>\n",
       "    </tr>\n",
       "    <tr>\n",
       "      <th>1</th>\n",
       "      <td>0.999696</td>\n",
       "      <td>0.997353</td>\n",
       "      <td>1.001309</td>\n",
       "      <td>1.009265</td>\n",
       "      <td>0.998011</td>\n",
       "      <td>0.997994</td>\n",
       "      <td>1.001996</td>\n",
       "      <td>0.992191</td>\n",
       "      <td>1.005519</td>\n",
       "      <td>0.990650</td>\n",
       "      <td>...</td>\n",
       "      <td>0.999669</td>\n",
       "      <td>0.996756</td>\n",
       "      <td>1.004320</td>\n",
       "      <td>1.003075</td>\n",
       "      <td>1.006290</td>\n",
       "      <td>0.996699</td>\n",
       "      <td>0.999837</td>\n",
       "      <td>1.005688</td>\n",
       "      <td>1.001648</td>\n",
       "      <td>1.003873</td>\n",
       "    </tr>\n",
       "    <tr>\n",
       "      <th>2</th>\n",
       "      <td>1.000455</td>\n",
       "      <td>0.992713</td>\n",
       "      <td>0.992572</td>\n",
       "      <td>1.017522</td>\n",
       "      <td>0.995830</td>\n",
       "      <td>1.000993</td>\n",
       "      <td>0.999419</td>\n",
       "      <td>0.993249</td>\n",
       "      <td>1.007799</td>\n",
       "      <td>0.989171</td>\n",
       "      <td>...</td>\n",
       "      <td>1.002200</td>\n",
       "      <td>0.989676</td>\n",
       "      <td>1.004444</td>\n",
       "      <td>1.000707</td>\n",
       "      <td>1.001636</td>\n",
       "      <td>1.002342</td>\n",
       "      <td>0.997823</td>\n",
       "      <td>1.012685</td>\n",
       "      <td>1.005122</td>\n",
       "      <td>1.007672</td>\n",
       "    </tr>\n",
       "    <tr>\n",
       "      <th>3</th>\n",
       "      <td>0.997009</td>\n",
       "      <td>0.994517</td>\n",
       "      <td>0.992528</td>\n",
       "      <td>1.018942</td>\n",
       "      <td>0.999120</td>\n",
       "      <td>1.002209</td>\n",
       "      <td>1.000731</td>\n",
       "      <td>0.996453</td>\n",
       "      <td>1.000319</td>\n",
       "      <td>0.982278</td>\n",
       "      <td>...</td>\n",
       "      <td>0.997234</td>\n",
       "      <td>0.987861</td>\n",
       "      <td>1.004890</td>\n",
       "      <td>1.001530</td>\n",
       "      <td>1.003807</td>\n",
       "      <td>0.999346</td>\n",
       "      <td>0.992518</td>\n",
       "      <td>1.007934</td>\n",
       "      <td>1.004843</td>\n",
       "      <td>1.010645</td>\n",
       "    </tr>\n",
       "    <tr>\n",
       "      <th>4</th>\n",
       "      <td>0.992851</td>\n",
       "      <td>0.995127</td>\n",
       "      <td>0.996429</td>\n",
       "      <td>1.023167</td>\n",
       "      <td>1.001805</td>\n",
       "      <td>0.996234</td>\n",
       "      <td>1.000344</td>\n",
       "      <td>0.990960</td>\n",
       "      <td>1.000971</td>\n",
       "      <td>0.980377</td>\n",
       "      <td>...</td>\n",
       "      <td>0.990366</td>\n",
       "      <td>0.981507</td>\n",
       "      <td>0.999167</td>\n",
       "      <td>1.008359</td>\n",
       "      <td>1.006116</td>\n",
       "      <td>0.999093</td>\n",
       "      <td>0.994219</td>\n",
       "      <td>1.012894</td>\n",
       "      <td>1.003936</td>\n",
       "      <td>1.009285</td>\n",
       "    </tr>\n",
       "    <tr>\n",
       "      <th>...</th>\n",
       "      <td>...</td>\n",
       "      <td>...</td>\n",
       "      <td>...</td>\n",
       "      <td>...</td>\n",
       "      <td>...</td>\n",
       "      <td>...</td>\n",
       "      <td>...</td>\n",
       "      <td>...</td>\n",
       "      <td>...</td>\n",
       "      <td>...</td>\n",
       "      <td>...</td>\n",
       "      <td>...</td>\n",
       "      <td>...</td>\n",
       "      <td>...</td>\n",
       "      <td>...</td>\n",
       "      <td>...</td>\n",
       "      <td>...</td>\n",
       "      <td>...</td>\n",
       "      <td>...</td>\n",
       "      <td>...</td>\n",
       "      <td>...</td>\n",
       "    </tr>\n",
       "    <tr>\n",
       "      <th>2516</th>\n",
       "      <td>1.798932</td>\n",
       "      <td>1.397396</td>\n",
       "      <td>1.525228</td>\n",
       "      <td>1.836199</td>\n",
       "      <td>1.710603</td>\n",
       "      <td>2.395702</td>\n",
       "      <td>2.019857</td>\n",
       "      <td>1.591559</td>\n",
       "      <td>1.438684</td>\n",
       "      <td>1.456032</td>\n",
       "      <td>...</td>\n",
       "      <td>1.235479</td>\n",
       "      <td>1.763142</td>\n",
       "      <td>2.013580</td>\n",
       "      <td>1.481335</td>\n",
       "      <td>1.295610</td>\n",
       "      <td>1.498097</td>\n",
       "      <td>1.646003</td>\n",
       "      <td>1.900407</td>\n",
       "      <td>2.160526</td>\n",
       "      <td>1.643784</td>\n",
       "    </tr>\n",
       "    <tr>\n",
       "      <th>2517</th>\n",
       "      <td>1.793554</td>\n",
       "      <td>1.384181</td>\n",
       "      <td>1.529438</td>\n",
       "      <td>1.835175</td>\n",
       "      <td>1.707925</td>\n",
       "      <td>2.391268</td>\n",
       "      <td>2.031720</td>\n",
       "      <td>1.588614</td>\n",
       "      <td>1.443891</td>\n",
       "      <td>1.452149</td>\n",
       "      <td>...</td>\n",
       "      <td>1.239460</td>\n",
       "      <td>1.764301</td>\n",
       "      <td>2.002937</td>\n",
       "      <td>1.476827</td>\n",
       "      <td>1.299768</td>\n",
       "      <td>1.506734</td>\n",
       "      <td>1.644211</td>\n",
       "      <td>1.906364</td>\n",
       "      <td>2.179096</td>\n",
       "      <td>1.649524</td>\n",
       "    </tr>\n",
       "    <tr>\n",
       "      <th>2518</th>\n",
       "      <td>1.800677</td>\n",
       "      <td>1.378656</td>\n",
       "      <td>1.530016</td>\n",
       "      <td>1.841855</td>\n",
       "      <td>1.717546</td>\n",
       "      <td>2.386608</td>\n",
       "      <td>2.016847</td>\n",
       "      <td>1.589837</td>\n",
       "      <td>1.441252</td>\n",
       "      <td>1.460099</td>\n",
       "      <td>...</td>\n",
       "      <td>1.237109</td>\n",
       "      <td>1.766613</td>\n",
       "      <td>1.995593</td>\n",
       "      <td>1.473342</td>\n",
       "      <td>1.296700</td>\n",
       "      <td>1.505026</td>\n",
       "      <td>1.649725</td>\n",
       "      <td>1.902820</td>\n",
       "      <td>2.178275</td>\n",
       "      <td>1.640329</td>\n",
       "    </tr>\n",
       "    <tr>\n",
       "      <th>2519</th>\n",
       "      <td>1.797778</td>\n",
       "      <td>1.379377</td>\n",
       "      <td>1.533659</td>\n",
       "      <td>1.851245</td>\n",
       "      <td>1.714815</td>\n",
       "      <td>2.382988</td>\n",
       "      <td>2.022676</td>\n",
       "      <td>1.576979</td>\n",
       "      <td>1.446693</td>\n",
       "      <td>1.473240</td>\n",
       "      <td>...</td>\n",
       "      <td>1.239996</td>\n",
       "      <td>1.768309</td>\n",
       "      <td>1.983791</td>\n",
       "      <td>1.472305</td>\n",
       "      <td>1.299440</td>\n",
       "      <td>1.505792</td>\n",
       "      <td>1.654113</td>\n",
       "      <td>1.901887</td>\n",
       "      <td>2.168832</td>\n",
       "      <td>1.627879</td>\n",
       "    </tr>\n",
       "    <tr>\n",
       "      <th>2520</th>\n",
       "      <td>1.786983</td>\n",
       "      <td>1.374142</td>\n",
       "      <td>1.538582</td>\n",
       "      <td>1.861521</td>\n",
       "      <td>1.703923</td>\n",
       "      <td>2.383657</td>\n",
       "      <td>2.016975</td>\n",
       "      <td>1.575924</td>\n",
       "      <td>1.442793</td>\n",
       "      <td>1.470930</td>\n",
       "      <td>...</td>\n",
       "      <td>1.250630</td>\n",
       "      <td>1.779698</td>\n",
       "      <td>1.965513</td>\n",
       "      <td>1.478282</td>\n",
       "      <td>1.298351</td>\n",
       "      <td>1.512165</td>\n",
       "      <td>1.664995</td>\n",
       "      <td>1.912776</td>\n",
       "      <td>2.171565</td>\n",
       "      <td>1.632006</td>\n",
       "    </tr>\n",
       "  </tbody>\n",
       "</table>\n",
       "<p>2521 rows × 500 columns</p>\n",
       "</div>"
      ],
      "text/plain": [
       "           0         1         2         3         4         5         6    \\\n",
       "0     1.000000  1.000000  1.000000  1.000000  1.000000  1.000000  1.000000   \n",
       "1     0.999696  0.997353  1.001309  1.009265  0.998011  0.997994  1.001996   \n",
       "2     1.000455  0.992713  0.992572  1.017522  0.995830  1.000993  0.999419   \n",
       "3     0.997009  0.994517  0.992528  1.018942  0.999120  1.002209  1.000731   \n",
       "4     0.992851  0.995127  0.996429  1.023167  1.001805  0.996234  1.000344   \n",
       "...        ...       ...       ...       ...       ...       ...       ...   \n",
       "2516  1.798932  1.397396  1.525228  1.836199  1.710603  2.395702  2.019857   \n",
       "2517  1.793554  1.384181  1.529438  1.835175  1.707925  2.391268  2.031720   \n",
       "2518  1.800677  1.378656  1.530016  1.841855  1.717546  2.386608  2.016847   \n",
       "2519  1.797778  1.379377  1.533659  1.851245  1.714815  2.382988  2.022676   \n",
       "2520  1.786983  1.374142  1.538582  1.861521  1.703923  2.383657  2.016975   \n",
       "\n",
       "           7         8         9    ...       490       491       492  \\\n",
       "0     1.000000  1.000000  1.000000  ...  1.000000  1.000000  1.000000   \n",
       "1     0.992191  1.005519  0.990650  ...  0.999669  0.996756  1.004320   \n",
       "2     0.993249  1.007799  0.989171  ...  1.002200  0.989676  1.004444   \n",
       "3     0.996453  1.000319  0.982278  ...  0.997234  0.987861  1.004890   \n",
       "4     0.990960  1.000971  0.980377  ...  0.990366  0.981507  0.999167   \n",
       "...        ...       ...       ...  ...       ...       ...       ...   \n",
       "2516  1.591559  1.438684  1.456032  ...  1.235479  1.763142  2.013580   \n",
       "2517  1.588614  1.443891  1.452149  ...  1.239460  1.764301  2.002937   \n",
       "2518  1.589837  1.441252  1.460099  ...  1.237109  1.766613  1.995593   \n",
       "2519  1.576979  1.446693  1.473240  ...  1.239996  1.768309  1.983791   \n",
       "2520  1.575924  1.442793  1.470930  ...  1.250630  1.779698  1.965513   \n",
       "\n",
       "           493       494       495       496       497       498       499  \n",
       "0     1.000000  1.000000  1.000000  1.000000  1.000000  1.000000  1.000000  \n",
       "1     1.003075  1.006290  0.996699  0.999837  1.005688  1.001648  1.003873  \n",
       "2     1.000707  1.001636  1.002342  0.997823  1.012685  1.005122  1.007672  \n",
       "3     1.001530  1.003807  0.999346  0.992518  1.007934  1.004843  1.010645  \n",
       "4     1.008359  1.006116  0.999093  0.994219  1.012894  1.003936  1.009285  \n",
       "...        ...       ...       ...       ...       ...       ...       ...  \n",
       "2516  1.481335  1.295610  1.498097  1.646003  1.900407  2.160526  1.643784  \n",
       "2517  1.476827  1.299768  1.506734  1.644211  1.906364  2.179096  1.649524  \n",
       "2518  1.473342  1.296700  1.505026  1.649725  1.902820  2.178275  1.640329  \n",
       "2519  1.472305  1.299440  1.505792  1.654113  1.901887  2.168832  1.627879  \n",
       "2520  1.478282  1.298351  1.512165  1.664995  1.912776  2.171565  1.632006  \n",
       "\n",
       "[2521 rows x 500 columns]"
      ]
     },
     "execution_count": 56,
     "metadata": {},
     "output_type": "execute_result"
    }
   ],
   "source": [
    "# Run the Monte Carlo simulation to forecast 10 years cumulative returns\n",
    "MC_SPY_AGG_portfolio_8to2.calc_cumulative_return()\n"
   ]
  },
  {
   "cell_type": "code",
   "execution_count": 60,
   "metadata": {},
   "outputs": [
    {
     "data": {
      "image/png": "[encoded data removed]",
      "text/plain": [
       "<Figure size 432x288 with 1 Axes>"
      ]
     },
     "metadata": {
      "needs_background": "light"
     },
     "output_type": "display_data"
    }
   ],
   "source": [
    "# Visualize the 10-year Monte Carlo simulation by creating an\n",
    "# overlay line plot\n",
    "MC_SPY_AGG_80to20_plot_line= MC_SPY_AGG_portfolio_8to2.plot_simulation()"
   ]
  },
  {
   "cell_type": "code",
   "execution_count": 61,
   "metadata": {},
   "outputs": [
    {
     "data": {
      "text/plain": [
       "<AxesSubplot:title={'center':'Distribution of Final Cumuluative Returns Across All 500 Simulations'}, ylabel='Frequency'>"
      ]
     },
     "execution_count": 61,
     "metadata": {},
     "output_type": "execute_result"
    },
    {
     "data": {
      "image/png": "[encoded data removed]",
      "text/plain": [
       "<Figure size 432x288 with 1 Axes>"
      ]
     },
     "metadata": {
      "needs_background": "light"
     },
     "output_type": "display_data"
    }
   ],
   "source": [
    "# Visualize the probability distribution of the 10-year Monte Carlo simulation \n",
    "# by plotting a histogram\n",
    "MC_SPY_AGG_portfolio_8to2.plot_distribution()\n"
   ]
  },
  {
   "cell_type": "code",
   "execution_count": 62,
   "metadata": {},
   "outputs": [
    {
     "name": "stdout",
     "output_type": "stream",
     "text": [
      "count           500.000000\n",
      "mean              1.818983\n",
      "std               0.368009\n",
      "min               0.904421\n",
      "25%               1.549877\n",
      "50%               1.791462\n",
      "75%               2.028649\n",
      "max               3.581243\n",
      "95% CI Lower      1.223076\n",
      "95% CI Upper      2.657619\n",
      "Name: 2520, dtype: float64\n"
     ]
    }
   ],
   "source": [
    "# Generate summary statistics from the 10-year Monte Carlo simulation results\n",
    "# Save the results as a variable\n",
    "SPY_AGG_8to2_table=MC_SPY_AGG_portfolio_8to2.summarize_cumulative_return()\n",
    "\n",
    "\n",
    "# Review the 10-year Monte Carlo summary statistics\n",
    "print(SPY_AGG_8to2_table)"
   ]
  },
  {
   "cell_type": "markdown",
   "metadata": {},
   "source": [
    "### Answer the following questions:"
   ]
  },
  {
   "cell_type": "markdown",
   "metadata": {},
   "source": [
    "#### Question: Using the current value of only the stock and bond portion of the member's portfolio and the summary statistics that you generated from the new Monte Carlo simulation, what are the lower and upper bounds for the expected value of the portfolio (with the new weights) with a 95% confidence interval?"
   ]
  },
  {
   "cell_type": "code",
   "execution_count": 63,
   "metadata": {},
   "outputs": [
    {
     "data": {
      "text/plain": [
       "Amount    60689.5\n",
       "Name: stock/bond, dtype: float64"
      ]
     },
     "execution_count": 63,
     "metadata": {},
     "output_type": "execute_result"
    }
   ],
   "source": [
    "# Print the current balance of the stock and bond portion of the members portfolio\n",
    "savings_df.loc[\"stock/bond\"]\n"
   ]
  },
  {
   "cell_type": "code",
   "execution_count": 65,
   "metadata": {},
   "outputs": [
    {
     "name": "stdout",
     "output_type": "stream",
     "text": [
      "There is 95% chance that your return from investing your current savings in this portfolio after 10 years be between $74227.85 and $161289.59\n"
     ]
    }
   ],
   "source": [
    "# Use the lower and upper `95%` confidence intervals to calculate the range of the possible outcomes for the current stock/bond portfolio\n",
    "ci_lower_ten_cumulative_return = float(SPY_AGG_8to2_table[8]*savings_df.loc[\"stock/bond\"])\n",
    "ci_upper_ten_cumulative_return = float(SPY_AGG_8to2_table[9]*savings_df.loc[\"stock/bond\"])\n",
    "\n",
    "# Print the result of your calculations\n",
    "print(f\"There is 95% chance that your return from investing your current savings in this portfolio after 10 years be between ${(ci_lower_ten_cumulative_return):.2f} and ${(ci_upper_ten_cumulative_return):.2f}\")\n",
    "\n"
   ]
  },
  {
   "cell_type": "markdown",
   "metadata": {},
   "source": [
    "#### Question: Will weighting the portfolio more heavily to stocks allow the credit union members to retire after only 10 years?"
   ]
  },
  {
   "cell_type": "raw",
   "metadata": {},
   "source": [
    "**Answer** # YOUR ANSWER HERE"
   ]
  },
  {
   "cell_type": "code",
   "execution_count": null,
   "metadata": {},
   "outputs": [],
   "source": [
    "Not necessarily."
   ]
  }
 ],
 "metadata": {
  "kernelspec": {
   "display_name": "python (dev)",
   "language": "python",
   "name": "dev"
  },
  "language_info": {
   "codemirror_mode": {
    "name": "ipython",
    "version": 3
   },
   "file_extension": ".py",
   "mimetype": "text/x-python",
   "name": "python",
   "nbconvert_exporter": "python",
   "pygments_lexer": "ipython3",
   "version": "3.7.10"
  }
 },
 "nbformat": 4,
 "nbformat_minor": 4
}
